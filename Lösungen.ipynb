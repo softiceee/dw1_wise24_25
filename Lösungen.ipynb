{
 "cells": [
  {
   "cell_type": "code",
   "execution_count": null,
   "id": "6213230b-1cd3-4d18-89ca-7bacaaf8d248",
   "metadata": {},
   "outputs": [],
   "source": [
    "# Jupyter Notebook options\n",
    "\n",
    "# Set the default plot width for Jupyter Notebook display\n",
    "options(repr.plot.width = 12, repr.plot.height = 8)"
   ]
  },
  {
   "cell_type": "markdown",
   "id": "f93876a0-c805-48e3-9a79-9f085cdb8fcc",
   "metadata": {},
   "source": [
    "# Lösungen\n",
    "\n",
    "In diesem Notebook finden sich alle Lösungen der bisher stattgefundenen Übungen. Für die Übersichtlichkeit werden lediglich Aufgabe und Lösung aufgeführt."
   ]
  },
  {
   "cell_type": "markdown",
   "id": "6c9a7719-5ad8-4b97-a530-84b314764645",
   "metadata": {},
   "source": [
    "## Einführung"
   ]
  },
  {
   "cell_type": "code",
   "execution_count": null,
   "id": "5426da9b-40f4-4172-ba48-d84c55c99386",
   "metadata": {},
   "outputs": [],
   "source": [
    "pacman::p_load(tidyverse)"
   ]
  },
  {
   "cell_type": "markdown",
   "id": "731cc3d0-c872-4053-a383-d8ba7efd2dc7",
   "metadata": {},
   "source": [
    "1. Dieser Code wirft eine Fehlermeldung aus, da wir den Befehl print() aus Versehen groß geschrieben haben. Probiere doch mal, den Code zu korrigieren, und führe die Zelle erneut aus!"
   ]
  },
  {
   "cell_type": "code",
   "execution_count": null,
   "id": "4244238f-d618-433e-acc6-d15dfa77edf6",
   "metadata": {},
   "outputs": [],
   "source": [
    "x = 3\n",
    "print(x) # die Groß- und Kleinschreibung ist wichtig!"
   ]
  },
  {
   "cell_type": "markdown",
   "id": "5699651b-bbe6-4fff-b13d-fc60e09f8e21",
   "metadata": {},
   "source": [
    "2. Versucht doch mal, aus einer eigenen Zahlenkombination den Durchschnitt mithilfe von `mean()` zu berechnen! Tipp: Ihr müsst der Funktion dafür eine Liste übergeben – also z.B. `c(1, 2, 3, 4)`."
   ]
  },
  {
   "cell_type": "code",
   "execution_count": null,
   "id": "e2293a9f-14f3-4243-907e-d8acca10acd3",
   "metadata": {},
   "outputs": [],
   "source": [
    "y = c(1, 2, 3, 4) # man kann die Liste erst zuweisen\n",
    "mean(y) # und dann den Durchschnitt ausgeben\n",
    "mean(c(1, 2, 3, 4)) # oder die Liste direkt übergeben"
   ]
  },
  {
   "cell_type": "markdown",
   "id": "cee623eb-3f32-4221-98f7-b8ef38f0f144",
   "metadata": {},
   "source": [
    "3. Überlegt euch, was die folgende Funktion macht, und kommentiert die wichtigsten Zeilen direkt im Code. Führt die Zelle anschließend aus, um zu schauen, was das Ergebnis ist. Stimmt das Ergebnis mit euren Überlegungen überein?"
   ]
  },
  {
   "cell_type": "code",
   "execution_count": null,
   "id": "a0d5bdcc-b64c-4294-872d-21758583ef03",
   "metadata": {},
   "outputs": [],
   "source": [
    "divison <- function(x, y){ # wir übergeben der Funktion \"divison()\" die Parameter x und y\n",
    "    ergebnis = x / y # Dann teilen wir x durch y und speichern das Ergebnis in der Variable \"ergebnis\"\n",
    "    return(paste0(\"Das Ergebnis ist \", ergebnis)) # Anschließend geben wir mithilfe von paste0() die Kombination aus unserem Satz und ergebnis zurück\n",
    "}\n",
    "\n",
    "divison(6, 3) # und schlussendlich rufen wir die Funktion mit den Zahlen 6 und 3 auf"
   ]
  },
  {
   "cell_type": "markdown",
   "id": "5fe4285f-6a86-4cf2-9db1-c2ec6843ba25",
   "metadata": {},
   "source": [
    "4. Wie müsst ihr den folgenden Code verändern, damit er keine Fehlermeldung mehr ausgibt? Tipp: `sqrt(x)` gibt die Wurzel von x zurück."
   ]
  },
  {
   "cell_type": "code",
   "execution_count": null,
   "id": "68355c94-8610-49ff-af7a-56c8a49467aa",
   "metadata": {},
   "outputs": [],
   "source": [
    "wurzel <- function(x){\n",
    "    print(\n",
    "        paste(\"Die Wurzel von \", x, \" ist gleich \" , sqrt(x)) # die Klammersetzung hat hier nicht gestimmt\n",
    "    )\n",
    "}\n",
    "\n",
    "x = 9\n",
    "wurzel(x) # hier fehlte das Argument"
   ]
  },
  {
   "cell_type": "markdown",
   "id": "167a0895-76a8-4394-b197-c538caca0f60",
   "metadata": {},
   "source": [
    "5. Schreibe eine Funktion, der man die Werte `x` und `y` übergeben kann und die das Produkt dieser Parameter ausgibt!"
   ]
  },
  {
   "cell_type": "code",
   "execution_count": null,
   "id": "8d68a4cf-4217-4ea3-be08-48f069b7987c",
   "metadata": {},
   "outputs": [],
   "source": [
    "multiplication <- function(x, y){ # wir übergeben die Werte x und y\n",
    "    return(x * y) # und geben das Produkt der beiden Werte zurück\n",
    "    }\n",
    "\n",
    "multiplication(3, 4) # hier wird die Funktion aufgerufen"
   ]
  },
  {
   "cell_type": "markdown",
   "id": "b0ee6f31-b7d9-48a3-b406-526bf32c318a",
   "metadata": {},
   "source": [
    "6. Verändert die Werte von `x` und `y`, sodass beide Werte Nachkommastellen enthalten. In R ist der Dezimaltrenner der Punkt `.`. Wie kann der Code erweitert werden, sodass das Ergebnis auf 2 Nachkommastellen gerundet wird?"
   ]
  },
  {
   "cell_type": "code",
   "execution_count": null,
   "id": "f5016c4e-fc69-429d-b9cf-f9c6c07be3aa",
   "metadata": {},
   "outputs": [],
   "source": [
    "multiplication <- function(x, y){ # wir übergeben die Werte x und y\n",
    "    return(round(x * y, 2)) # und geben das Produkt der beiden Werte zurück und runden auf 2 Nachkommastellen\n",
    "    }\n",
    "\n",
    "multiplication(3.33, 4.44) # hier wird die Funktion aufgerufen"
   ]
  },
  {
   "cell_type": "markdown",
   "id": "5b0f37b4-d9ff-45aa-a5dd-54e31e1b1bee",
   "metadata": {},
   "source": [
    "7. Schreibe eine Funktion, die das heutige Datum und die momentane Uhrzeit ausgibt. Tipp: Benutze [`Sys.Date()`](https://www.rdocumentation.org/packages/base/versions/3.6.2/topics/Sys.time) und suche im Internet nach eine ähnlichen Funktion, die die Uhrzeit ausgibt! Ihr könnt auch `paste0()` benutzen, sodass die Uhrzeit mit einem netten Gruß ausgegeben wird."
   ]
  },
  {
   "cell_type": "code",
   "execution_count": null,
   "id": "757730d8-5fba-457c-80ca-1e962f777a7f",
   "metadata": {},
   "outputs": [],
   "source": [
    "wievieluhr <- function(){ # man kann Funktionen auch ohne Parameter definieren!\n",
    "    print(paste0(\"Momentanes Datum und Uhrzeit: \", Sys.time())) # Wir benutzen direkt die Funktion Sys.time()\n",
    "    }\n",
    "\n",
    "wievieluhr()"
   ]
  },
  {
   "cell_type": "markdown",
   "id": "5027333a-57a3-416d-9e67-27df384fb95e",
   "metadata": {},
   "source": [
    "8. Erstellt eine Sequenz von Nummern zwischen 1 und 100 mit einem Intervall von 5. Recherchiert dafür, welche eingebaute Funktion in R ihr dafür benutzen könnt."
   ]
  },
  {
   "cell_type": "code",
   "execution_count": null,
   "id": "0efdafee-6117-4f41-812f-ffd6bd0337d6",
   "metadata": {},
   "outputs": [],
   "source": [
    "seq(from = 1, to = 100, by = 5) # base hat eine eigene Funktion für die Erstellung von Sequenzen\n",
    "\n",
    "# dokumentiert unter https://www.rdocumentation.org/packages/base/versions/3.6.2/topics/seq"
   ]
  },
  {
   "cell_type": "markdown",
   "id": "ec1a2130-4256-4bf6-8678-bba5acf354c6",
   "metadata": {},
   "source": [
    "9. Erstelle einen Vektor mit beliebigen Ziffern. Wie könnt ihr jedes Element des Vektors mit 3 multiplizieren und anschließend einem neuen Vektor zuweisen?"
   ]
  },
  {
   "cell_type": "code",
   "execution_count": null,
   "id": "0990bc71-5e86-4f88-b0b0-b151d67b2efa",
   "metadata": {},
   "outputs": [],
   "source": [
    "random_vector <- runif(10, min = 1, max = 100) # runif generates random numbers from a uniform distribution\n",
    "\n",
    "multiplied_vector <- random_vector * 3 # you can easily use operators on all elements of vectors\n",
    "\n",
    "print(multiplied_vector)"
   ]
  },
  {
   "cell_type": "markdown",
   "id": "fbab9df3-1832-4467-b841-20799af27102",
   "metadata": {},
   "source": [
    "10. Wie könnt ihr euch jedes 2. Element des vorher erstellten Vektors ausgeben lassen?"
   ]
  },
  {
   "cell_type": "code",
   "execution_count": null,
   "id": "b4b65dff-44c4-4b83-9da8-17a4fadaa4dc",
   "metadata": {},
   "outputs": [],
   "source": [
    "# wir können auf die einzelnen Elemente des Vektors mit den eckigen Klammern [] zugreifen\n",
    "# um jedes 2. Element zu definieren, erstellen wir wieder eine Sequenz mit der Länge des Vektors, die bei 2 startet und sich dann um jeweils 2 erhöht\n",
    "multiplied_vector[seq(2, length(multiplied_vector), by = 2)]\n",
    "\n",
    "# Achtung! R benutzt 1-indexing, d.h. das Indexing startet bei 1 - bei vielen anderen Programmiersprachen ist es üblich,\n",
    "# dass das erste Element eines Vektors mit der 0 indiziert wird"
   ]
  },
  {
   "cell_type": "markdown",
   "id": "4cac8346-989b-4f24-8f3d-ca8cf18f188a",
   "metadata": {},
   "source": [
    "11. Wie könnt ihr den Vektor sortieren? Findet außerdem das Minimum und das Maximum des Vektors. Nehmt euch dafür eingebaute R-Funktionen zur Hilfe."
   ]
  },
  {
   "cell_type": "code",
   "execution_count": null,
   "id": "8b597db2-558a-494f-b7f5-6f0238b9309d",
   "metadata": {},
   "outputs": [],
   "source": [
    "# Auch hier hat base wieder eigens eingebaute Funktionen\n",
    "\n",
    "sort(multiplied_vector)\n",
    "min(multiplied_vector)\n",
    "max(multiplied_vector)"
   ]
  },
  {
   "cell_type": "markdown",
   "id": "360df84d-a464-47a5-8d98-5acb2249c973",
   "metadata": {},
   "source": [
    "## Visualization"
   ]
  },
  {
   "cell_type": "code",
   "execution_count": null,
   "id": "8c42e2a0-e977-40c2-b1e5-3d1dd6e599e0",
   "metadata": {},
   "outputs": [],
   "source": [
    "pacman::p_load(tidyverse, palmerpenguins)"
   ]
  },
  {
   "cell_type": "markdown",
   "id": "e6c06264-7d78-4f9c-baa3-33078053aaad",
   "metadata": {},
   "source": [
    "1. Welche anderen Variablen tauchen noch im Datensatz auf? (also neben `species` oder `bill_length_mm`?\n",
    "\n",
    "> `island`, `bill_depth_mm`, `flipper_length_mm`, `body_mass_g`, `sex`, `year`\n",
    "\n",
    "2. Welche von ihnen könnten besonders interessant sein?\n",
    "\n",
    "> Das kommt sehr auf die Forschungsfrage an.\n",
    "\n",
    "3. Welche Einheiten haben die einzelnen Variablen?\n",
    "\n",
    "> Die Einheiten sind hinten in der Variablenbezeichnung aufgeführt (das Körpergewicht ist z.B. in g angegeben).\n",
    "\n",
    "4. Welche Unterschiede erkennt ihr zwischen den einzelnen Variablen? Was wäre z. B. ein Unterschied zwischen der Variable `species` und `body_mass_g`? (das statistische Stichwort dazu ist das **Datenniveau**)\n",
    "> `body_mass_g` ist eine kontinuierliche Variable (sie kann jede beliebige Zahl über 0 annehmen. `species` hingegen ist eine kategorische bzw. diskrete Variable, da nur 3 verschiedene Spezies im Datensatz enthalten sind.\n",
    "\n",
    "5. Was könnte man mit dem Pinguin-Datensatz herausfinden? Denkt euch zwei Fragestellungenen aus, die sich theoretisch untersuchen lassen würden. Keine Sorge, ihr müsst diese anschließend nicht weiter nachverfolgen.\n",
    "\n",
    "> a) Wie ist der Zusammenhang zwischen dem biologischen Geschlecht und der Größe und dem Gewicht der Pinguine? Gibt es hierbei Unterschiede zwischen den verschiedenen Spezies? b) Welche Spezies leben auf welcher Insel und inwiefern unterscheiden sich die Pinguine pro Insel?"
   ]
  },
  {
   "cell_type": "markdown",
   "id": "4167b0f0-d206-4932-9301-f4e249971265",
   "metadata": {},
   "source": [
    "6. Was beschreibt die Variable `bill_depth_mm`? Tipp: schaue in der Dokumentation von `palmerpenguins` mithilfe von `?penguins` nach.\n",
    "\n",
    "> `bill_depth_mm` = a number denoting bill depth (millimeters)"
   ]
  },
  {
   "cell_type": "markdown",
   "id": "f94cbc96-df3c-40dd-b770-084068bdce28",
   "metadata": {},
   "source": [
    "7. Müssen wir dafür [`aes()`](https://ggplot2.tidyverse.org/reference/aes.html) oder das **geom** verändern?\n",
    "\n",
    "> Dafür muss das *aesthetic mapping* [`aes()`](https://ggplot2.tidyverse.org/reference/aes.html) angepasst werden."
   ]
  },
  {
   "cell_type": "markdown",
   "id": "9b26a4c8-048a-4503-8a4a-eeef22545f78",
   "metadata": {},
   "source": [
    "8. Welchen Zusammenhang erwartet ihr intutitiv zwischen den beiden Variablen?\n",
    "\n",
    "> Eine größere Schnabellänge `bill_length_mm` sollte vermutlich auch eine größere Schnabeltiefe `bill_depth_mm` bedeuten.\n",
    "\n",
    "9. Wie könnten diese beiden Variablen von `species` und `sex` abhängen?\n",
    "\n",
    "> Unterschiedliche `species` haben vermutlich unterschiedliche Größen, was sich dann wiederum auch in der Schnabellänge und -tiefe wiederspiegeln würde. Ähnlich sollte es beim biologischen Geschlecht `sex` sein. Um genauere Informationen darüber zu erfahren, müssen wir in die Daten gucken.\n",
    "\n",
    "10. Erstellt einen Plot, bei dem `bill_depth_mm` auf der x-Achse liegt und `bill_length_mm` auf der y-Achse:"
   ]
  },
  {
   "cell_type": "code",
   "execution_count": null,
   "id": "f8cc4c11-00ef-4637-b59f-4fc656a3e021",
   "metadata": {},
   "outputs": [],
   "source": [
    "ggplot(penguins, aes(x = bill_depth_mm, y = bill_length_mm)) +\n",
    "    geom_point()"
   ]
  },
  {
   "cell_type": "markdown",
   "id": "58d0f5d1-a58d-49c2-b1c9-52df89855047",
   "metadata": {},
   "source": [
    "11. Entspricht das Ergebnis euren intuitiven Vermutungen?\n",
    "\n",
    "> In der Grafik ist es bisher sehr schwierig, einen Zusammenhang zu erkennen, weil wir noch nicht die einzelnen Spezies gekennzeichnet haben.\n",
    "\n",
    "12. Welchen Zusammenhang erkennt ihr zwischen `bill_depth_mm` und `bill_length_mm` innerhalb der einzelnen Cluster (Spezies)?\n",
    "\n",
    "> Hierfür können wir die gleiche Grafik nochmal ausgeben, aber diesmal die Spezies einfärben. Dann sehen wir, ein grober Zusammenhang zwischen Schnabeltiefe und -länge besteht (innerhalb der einzelnen Cluster bedeuten größere Schnabeltiefen tendenziell auch größere Schnabellängen)."
   ]
  },
  {
   "cell_type": "code",
   "execution_count": null,
   "id": "f7d427c4-0a5e-4eec-8b5e-d08b00caa470",
   "metadata": {},
   "outputs": [],
   "source": [
    "ggplot(penguins, aes(x = bill_depth_mm, y = bill_length_mm, color = species)) +\n",
    "    geom_point()"
   ]
  },
  {
   "cell_type": "markdown",
   "id": "b4dded18-730f-47d1-8985-8a23e0fbbd2f",
   "metadata": {},
   "source": [
    "13. Was passiert, wenn Du ein Streudiagramm von `species` vs. `bill_depth_mm` erzeugst? Was könnte ein besseres **geom** sein, um dieses Verhältnis darzustellen?\n",
    "\n",
    "> Ein besseres **geom** wäre z.B. ein Balkendiagramm, welches später in der Übung erwähnt wird."
   ]
  },
  {
   "cell_type": "code",
   "execution_count": null,
   "id": "f19d46d0-48ca-440b-b1c4-0eacb9ba8fe4",
   "metadata": {},
   "outputs": [],
   "source": [
    "ggplot(data = penguins, aes(x = species, y = bill_depth_mm)) +\n",
    "    geom_point()"
   ]
  },
  {
   "cell_type": "markdown",
   "id": "8deaa994-8221-44c7-bfa3-ca5170eab5b7",
   "metadata": {},
   "source": [
    "14. Warum würde der folgende Code eine Fehlermeldung ausgeben? Und wie könnte man diese beheben?\n",
    "```\n",
    "ggplot(data = penguins) +\n",
    "    geom_point()\n",
    "```"
   ]
  },
  {
   "cell_type": "code",
   "execution_count": null,
   "id": "14425f93-bde6-4c42-a3fd-bb0995f6fcf9",
   "metadata": {},
   "outputs": [],
   "source": [
    "ggplot(data = penguins, aes(x = body_mass_g, y = bill_depth_mm)) + # es fehlt das aesthetic mapping aes()\n",
    "    geom_point()"
   ]
  },
  {
   "cell_type": "markdown",
   "id": "e554b38d-1714-48c9-86c5-9c47f31e8f10",
   "metadata": {},
   "source": [
    "15. Wie kann man die Schriftgröße oder die Schriftart des Plots verändern? Recherchiert mithilfe von Suchmaschinen oder ChatGPT, wie das möglich sein könnte."
   ]
  },
  {
   "cell_type": "code",
   "execution_count": null,
   "id": "074333b4-1e86-4451-a80c-7b274a02a399",
   "metadata": {},
   "outputs": [],
   "source": [
    "ggplot(data = penguins, aes(x = body_mass_g, y = bill_depth_mm)) +\n",
    "    geom_point() +\n",
    "    theme_minimal(base_size = 20) # mithilfe des Arguments base_size"
   ]
  },
  {
   "cell_type": "markdown",
   "id": "f5060217-a990-4039-9922-7081ac5dda33",
   "metadata": {},
   "source": [
    "16. Wir nehmen an, dass sich die Variable $xy$ der Pinguine durch die einfache Formel `body_mass_g / flipper_length_mm ** 2` berechnen lässt. Der Slash `/` funktioniert hier als Divisor und `**` als Potenz:\n",
    "  \n",
    "$ \\frac{body\\_mass\\_g}{flipper\\_length\\_mm^2} $.\n",
    "\n",
    "Verändert den Code, sodass die Farbe durch die neue Variable $xy$ gegeben ist. Tipp: Ihr könnt eine neue Spalte mithilfe des `$`-Operators hinzufügen: `data_frame$new_column <- Berechnung`"
   ]
  },
  {
   "cell_type": "code",
   "execution_count": null,
   "id": "bb750f5a-8821-4112-9262-5f74f09d43ff",
   "metadata": {},
   "outputs": [],
   "source": [
    "penguins$xy = penguins$body_mass_g / penguins$flipper_length_mm ** 2\n",
    "ggplot(penguins, aes(x = body_mass_g, y = flipper_length_mm, color = BMI)) +\n",
    "    geom_point()"
   ]
  },
  {
   "cell_type": "markdown",
   "id": "2c034a55-acd8-448a-956d-a7ef28ead29e",
   "metadata": {},
   "source": [
    "17. Kannst du die Datei im File Browser finden und öffnen? Wie würde man sie auf deiner lokalen Festplatte (aka deinem Computer) speichern?\n",
    "\n",
    "> Innerhalb der Funktion `ggsave()` kann man das Argument `path = \"your/directory/\"` angeben. Unter diesem Pfad auf dem Jupyter-Server wird die Datei gespeichert. Anschließend kannst du sie mit Rechtsklick -> Download herunterladen."
   ]
  },
  {
   "cell_type": "markdown",
   "id": "9a63043f-fb36-4d3b-942f-b0ee24025eb5",
   "metadata": {},
   "source": [
    "18. Auch wenn es trivial erscheinen mag, was sagt dieser Plot über den Datensatz aus?"
   ]
  },
  {
   "cell_type": "code",
   "execution_count": null,
   "id": "74b78b4a-9f4f-45e5-accf-87ba4bcc8122",
   "metadata": {},
   "outputs": [],
   "source": [
    "ggplot(penguins, aes(x = species)) +\n",
    "    geom_bar()"
   ]
  },
  {
   "cell_type": "markdown",
   "id": "39e75d4d-6af8-4e93-8f93-ee5ea2830b70",
   "metadata": {},
   "source": [
    "> Durch dieses Balkendiagramm erhalten wir direkt einen visuell aussagekräftigen Überblick, wieviele Pinguine von welcher Spezies vorhanden sind.\n",
    "\n",
    "19. Füge mithilfe von [`labs()`](https://ggplot2.tidyverse.org/reference/labs.html) aussagekräftige Beschriftungen hinzu.\n",
    "20. Füge eine Theme hinzu, z.B. mit [`theme_minimal()`](https://ggplot2.tidyverse.org/reference/ggtheme.html). Ihr könnt auch andere [Themes](https://ggplot2.tidyverse.org/reference/ggtheme.html) ausprobieren!"
   ]
  },
  {
   "cell_type": "code",
   "execution_count": null,
   "id": "6dc357b3-ab62-4fac-b732-7184d9101114",
   "metadata": {},
   "outputs": [],
   "source": [
    "ggplot(penguins, aes(x = species, fill = island)) +\n",
    "    geom_bar()  +\n",
    "    labs(\n",
    "        x = \"Spezies\", # x-Achsenbeschriftung\n",
    "        y = \"Anzahl\", # y-Achsenbeschriftung\n",
    "        color = \"Insel\", # Legendenbeschriftung für `color`\n",
    "        title = \"Pinguine in der Antarktis\", # Titel\n",
    "        subtitle = \"Aufgezeichnet von Dr. Kristen Gorman und der Palmer Station, Antarctica LTER\", # Untertitel\n",
    "        caption = \"https://allisonhorst.github.io/palmerpenguins/\" # Bildunterschrift\n",
    "        ) +\n",
    "    theme_minimal()"
   ]
  },
  {
   "cell_type": "markdown",
   "id": "10783835-21b2-488a-a686-cf6678b2d4ab",
   "metadata": {},
   "source": [
    "## Transformation"
   ]
  },
  {
   "cell_type": "code",
   "execution_count": null,
   "id": "05db4e9c-2466-4984-9c97-cf21d21f3df4",
   "metadata": {},
   "outputs": [],
   "source": [
    "pacman::p_load(tidyverse, nycflights13)"
   ]
  },
  {
   "cell_type": "markdown",
   "id": "65330bd2-8354-44e3-b0d0-b76663e5dcbf",
   "metadata": {},
   "source": [
    "1. Es ist immer gut, zu prüfen, ob eine Datentransformation funktioniert hat. Woran kannst du erkennen, dass der Filter funktioniert hat?"
   ]
  },
  {
   "cell_type": "code",
   "execution_count": null,
   "id": "d99ebf5b-9231-4783-ba23-2ca44f3df02c",
   "metadata": {},
   "outputs": [],
   "source": [
    "flights %>%\n",
    "    filter(dest == \"IAH\") %>%\n",
    "    glimpse()"
   ]
  },
  {
   "cell_type": "markdown",
   "id": "4186b1de-ceb3-427a-accd-e3e702f16a94",
   "metadata": {},
   "source": [
    "> Es werden nur noch 7,198 Rows ausgegeben – d.h., der Datensatz wurde reduziert (gefiltert)."
   ]
  },
  {
   "cell_type": "markdown",
   "id": "1961bd0f-e417-47de-8ad8-6093c774f867",
   "metadata": {},
   "source": [
    "2. Wie könnte man den Befehl oben ohne die Pipe schreiben?"
   ]
  },
  {
   "cell_type": "code",
   "execution_count": null,
   "id": "3a356ad1-d4d2-4561-abd6-34cd23156810",
   "metadata": {},
   "outputs": [],
   "source": [
    "glimpse(filter(flights, dest == \"IAH\"))"
   ]
  },
  {
   "cell_type": "markdown",
   "id": "92f50451-bcfa-44d6-9f84-3cbff5e76be5",
   "metadata": {},
   "source": [
    "3. Wie viele Flüge sind im `nycflights13`-Datensatz aufgeführt? (Tipp: Benutze den Befehl [`nrow()`](https://stat.ethz.ch/R-manual/R-devel/library/base/html/nrow.html)"
   ]
  },
  {
   "cell_type": "code",
   "execution_count": null,
   "id": "fcc87fa9-a40b-48d1-834c-db60d7f24af2",
   "metadata": {},
   "outputs": [],
   "source": [
    "# Anzahl der Flüge im Datensatz\n",
    "flights %>%\n",
    "    nrow()"
   ]
  },
  {
   "cell_type": "markdown",
   "id": "463a0790-1ee6-4eb0-b09e-36741693b248",
   "metadata": {},
   "source": [
    "4. Wie viele Flüge haben bei Abflug eine Verspätung von mehr als 120 Minuten?"
   ]
  },
  {
   "cell_type": "code",
   "execution_count": null,
   "id": "a75a359a-a907-47ec-b9ba-09b5b537bd65",
   "metadata": {},
   "outputs": [],
   "source": [
    "# Anzahl der Flüge mit Verspätung mehr als 120 Min\n",
    "flights %>%\n",
    "    filter(dep_delay > 120) %>%\n",
    "    nrow()"
   ]
  },
  {
   "cell_type": "markdown",
   "id": "b9af320d-9b73-4275-b739-bfe532ee8ac8",
   "metadata": {},
   "source": [
    "5. Sortiert `flights`, um die Flüge mit den längsten Abflugsverspätungen (departure delay) zu finden."
   ]
  },
  {
   "cell_type": "code",
   "execution_count": null,
   "id": "e6839c43-7278-4f65-8950-363f249ebd0a",
   "metadata": {},
   "outputs": [],
   "source": [
    "flights %>%\n",
    "    arrange(desc(dep_delay)) %>%\n",
    "    head()"
   ]
  },
  {
   "cell_type": "markdown",
   "id": "9c5bb32b-3e15-436a-8d09-07d9bf30e180",
   "metadata": {},
   "source": [
    "6. Gab es an jedem Tag von 2013 einen Flug?"
   ]
  },
  {
   "cell_type": "code",
   "execution_count": null,
   "id": "833b4287-b682-42f4-9ef1-bde1fbd5e309",
   "metadata": {},
   "outputs": [],
   "source": [
    "flights %>%\n",
    "    distinct(year, month, day) %>%\n",
    "    nrow()"
   ]
  },
  {
   "cell_type": "markdown",
   "id": "be67670f-4bc7-45a2-ad0f-ba7a9268a677",
   "metadata": {},
   "source": [
    "> Hier fragen wir ab ob es für jede Kombination von `year`, `month` und `day` ein Ereignis gibt - die Anzahl dieser Ereignisse ist 365, also ja, es gab an jedem Tag von 2013 einen Flug!"
   ]
  },
  {
   "cell_type": "markdown",
   "id": "9dc9d82d-7b69-4e21-9f4e-44359386d6aa",
   "metadata": {},
   "source": [
    "7. Welche Flüge sind am weitesten geflogen? Welche am kürzesten?"
   ]
  },
  {
   "cell_type": "code",
   "execution_count": null,
   "id": "3e2236e2-77b4-44cb-a05b-483253f77681",
   "metadata": {},
   "outputs": [],
   "source": [
    "# am weitesten geflogen\n",
    "flights %>%\n",
    "    arrange(desc(distance)) %>%\n",
    "    head()"
   ]
  },
  {
   "cell_type": "code",
   "execution_count": null,
   "id": "f2cda09e-fdd0-4fb6-88ee-ae6e1e1155b7",
   "metadata": {},
   "outputs": [],
   "source": [
    "# am kürzesten geflogen\n",
    "flights %>%\n",
    "    arrange(distance) %>%\n",
    "    head()"
   ]
  },
  {
   "cell_type": "markdown",
   "id": "90146944-0ce2-496b-894e-0b63b22fbea7",
   "metadata": {},
   "source": [
    "8. Ist die Reihenfolge innerhalb einer Pipe von [`filter()`](https://dplyr.tidyverse.org/reference/filter.html) und [`arrange()`](https://dplyr.tidyverse.org/reference/arrange.html) wichtig? Warum/Warum nicht? Denkt dafür über die Ergebnisse nach und wieviel Arbeit die Funktionen jeweils ausführen müssen."
   ]
  },
  {
   "cell_type": "markdown",
   "id": "19237118-4606-43d5-9cf1-a2a93adf3040",
   "metadata": {},
   "source": [
    "> Wenn erst `filter()` und dann `arrange()` verwendet wird, muss `arrange()` wesentlich weniger Fälle sortieren. Das bedeutet weniger Rechenaufwand und eine schnellere Berechnung."
   ]
  },
  {
   "cell_type": "markdown",
   "id": "08da40d6-0787-4e7c-9db8-16aca289a304",
   "metadata": {},
   "source": [
    "9. Wie viele dieser Flüge sind am 01. Januar geflogen?"
   ]
  },
  {
   "cell_type": "code",
   "execution_count": null,
   "id": "5505671c-eced-475d-b75d-f2e7ab3fa445",
   "metadata": {},
   "outputs": [],
   "source": [
    "# Anzahl der Flüge am 01. Januar mit einer Verspätung von mehr als 120 Minuten\n",
    "flights %>%\n",
    "    filter(dep_delay > 120) %>%\n",
    "    filter(month == 1 & day == 1) %>%\n",
    "    nrow()"
   ]
  },
  {
   "cell_type": "markdown",
   "id": "1f2c2a34-b5d8-4473-aae3-805dedc126da",
   "metadata": {},
   "source": [
    "10. Wie viele Flüge fanden im Januar und Februar statt?"
   ]
  },
  {
   "cell_type": "code",
   "execution_count": null,
   "id": "2f67b3c9-3c92-4013-a0c3-ceb6ddd2c113",
   "metadata": {},
   "outputs": [],
   "source": [
    "# Anzahl der Flüge im Januar und Februar\n",
    "flights %>%\n",
    "    filter(month == 1 | month == 1) %>%\n",
    "    nrow()"
   ]
  },
  {
   "cell_type": "markdown",
   "id": "d0641273-142d-4925-a388-44df1daae51d",
   "metadata": {},
   "source": [
    "11. Gebt alle Flüge aus, welche die folgenden Bedingungen erfüllen (mit der pipe [`%>%`](https://www.rdocumentation.org/packages/magrittr/versions/2.0.3), für jede Zeile ein Code Snippet)\n",
    "\n",
    "    - Ankunftsverspätung von mehr als zwei Stunden\n",
    "    - Zielflughafen ist in Houston (`IAH` or `HOU`)\n",
    "    - betrieben von United, American, oder Delta\n",
    "    - abgeflogen in den Monaten Juli, August, September\n",
    "    - mit mehr als zwei Stunden Verspätung angekommen, aber ohne Verspätung losgeflogen\n",
    "    - mindestens eine Stunde zu spät angekommen, aber über 30 Minuten beim Flug wieder gutgemacht"
   ]
  },
  {
   "cell_type": "code",
   "execution_count": null,
   "id": "a020f19c-f9f7-4675-bb90-854a5f702e35",
   "metadata": {},
   "outputs": [],
   "source": [
    "# Ankunftsverspätung von mehr als zwei Stunden\n",
    "flights %>%\n",
    "    filter(arr_delay >= 120) %>%\n",
    "    nrow()"
   ]
  },
  {
   "cell_type": "code",
   "execution_count": null,
   "id": "339ffdbf-9bec-4d46-a449-3c3b72b38920",
   "metadata": {},
   "outputs": [],
   "source": [
    "# betrieben von United, American, oder Delta\n",
    "flights %>%\n",
    "    filter(carrier %in% c(\"UA\", \"AA\", \"DL\")) %>%\n",
    "    nrow()"
   ]
  },
  {
   "cell_type": "code",
   "execution_count": null,
   "id": "ee7734f2-2e8f-4ce8-9074-e2fd359d1dab",
   "metadata": {},
   "outputs": [],
   "source": [
    "# abgeflogen in den Monaten Juli, August, September\n",
    "flights %>%\n",
    "    filter(month %in% c(7, 8, 9)) %>%\n",
    "    nrow()"
   ]
  },
  {
   "cell_type": "code",
   "execution_count": null,
   "id": "819bdac5-0bbd-4653-96a6-ff72baf3dd09",
   "metadata": {},
   "outputs": [],
   "source": [
    "# Zielflughafen ist in Houston (`IAH` or `HOU`)\n",
    "flights %>%\n",
    "    filter(dest %in% c(\"IAH\", \"HOU\")) %>%\n",
    "    nrow()"
   ]
  },
  {
   "cell_type": "code",
   "execution_count": null,
   "id": "1dc6c65c-c3ea-4764-9c97-6f46e5e2971e",
   "metadata": {},
   "outputs": [],
   "source": [
    "# mit mehr als zwei Stunden Verspätung angekommen, aber ohne Verspätung losgeflogen\n",
    "flights %>%\n",
    "    filter(dep_delay > 120 & arr_delay <= 0) %>%\n",
    "    nrow()"
   ]
  },
  {
   "cell_type": "code",
   "execution_count": null,
   "id": "18273a28-4299-4206-8884-f3055a9d38d7",
   "metadata": {},
   "outputs": [],
   "source": [
    "# mindestens eine Stunde zu spät angekommen, aber über 30 Minuten beim Flug wieder gutgemacht\n",
    "flights %>%\n",
    "    filter(dep_delay > 60) %>% \n",
    "    filter(dep_delay - arr_delay <= -30) %>% # 30 Minuten wieder gutgemacht\n",
    "    nrow()"
   ]
  },
  {
   "cell_type": "markdown",
   "id": "9de81a51-a9fa-4d3b-aa4a-35ce9a9fbb9f",
   "metadata": {},
   "source": [
    "12. Sortiert `flights`, um die schnellsten Flüge zu finden (Tipp: hier kann ein bisschen Mathematik helfen)."
   ]
  },
  {
   "cell_type": "code",
   "execution_count": null,
   "id": "a0ce8eeb-0b83-49f9-b22a-027fac3ca0ce",
   "metadata": {},
   "outputs": [],
   "source": [
    "flights %>%\n",
    "    arrange(distance / air_time) %>%\n",
    "    head()"
   ]
  },
  {
   "cell_type": "markdown",
   "id": "3ec76fc9-4b7c-42b3-a92b-9a932ea57be1",
   "metadata": {},
   "source": [
    "13. Vergleiche die Variablen `dep_time`, `sched_dep_time`, und `dep_delay`. Was sind eure Annahmen, wie diese Variablen miteinander verknüpft sind?"
   ]
  },
  {
   "cell_type": "code",
   "execution_count": null,
   "id": "72d85937-cffb-4185-be94-d383adb11e06",
   "metadata": {},
   "outputs": [],
   "source": [
    "flights %>%\n",
    "    select(dep_time, sched_dep_time, dep_delay) %>%\n",
    "    head()"
   ]
  },
  {
   "cell_type": "markdown",
   "id": "29fb6ca8-9736-4d11-bd1d-902e819c33b6",
   "metadata": {},
   "source": [
    "> Die drei Variablen sind mathematisch folgendermaßen miteinander verknüpft: `dep_delay` = `dep_time` - `sched_dep_time`\n",
    ">\n",
    "> Die Verspätung ergibt sich einfach aus der Differenz von der geplanten vs. der tatsächlich Abflugszeit."
   ]
  },
  {
   "cell_type": "markdown",
   "id": "be91ac60-138c-4f79-adba-79411f508dd6",
   "metadata": {},
   "source": [
    "14. Überlegt, welche Wege euch einfallen, um `dep_time`, `dep_delay`, `arr_time`, und `arr_delay` aus `flights` auszuwählen."
   ]
  },
  {
   "cell_type": "code",
   "execution_count": null,
   "id": "80faaa83-9b76-4547-91fc-4e42f7d72daf",
   "metadata": {},
   "outputs": [],
   "source": [
    "flights %>% select(dep_time, dep_delay, arr_time, arr_delay) %>% head()\n",
    "\n",
    "flights %>% select(starts_with(\"dep\") | starts_with(\"arr\")) %>% head()\n",
    "\n",
    "flights %>% select(contains(c(\"dep\", \"arr\")) & contains(c(\"time\", \"delay\")) &! contains(\"sched\")) %>% head()\n",
    "\n",
    "# und viele weitere"
   ]
  },
  {
   "cell_type": "markdown",
   "id": "b8cdf51c-1cbc-4837-8b65-2fdc46130a75",
   "metadata": {},
   "source": [
    "15. Was passiert, wenn man den Namen der gleichen Variablen mehrmals in [`select()`](https://dplyr.tidyverse.org/reference/select.html) angibt?"
   ]
  },
  {
   "cell_type": "code",
   "execution_count": null,
   "id": "bde850b9-02ed-451e-be1c-c409eb840b24",
   "metadata": {},
   "outputs": [],
   "source": [
    "flights %>%\n",
    "    select(air_time, air_time) %>%\n",
    "    head()"
   ]
  },
  {
   "cell_type": "markdown",
   "id": "e46a84a9-54ca-4db6-bef6-46b24b9b4b70",
   "metadata": {},
   "source": [
    "16. Was passiert, wenn ihr den folgenden Code ausführt? Überrascht euch das Ergebnis? Wie wird mit Groß- und Kleinschreibung umgegangen? Für mehr, schaut gerne in die Dokumentation von [`select()`](https://dplyr.tidyverse.org/reference/select.html).\n",
    "\n",
    "```\n",
    "flights %>% select(contains(\"TIME\"))\n",
    "```"
   ]
  },
  {
   "cell_type": "code",
   "execution_count": null,
   "id": "3caecad1-365d-4c10-a89f-306620c6a4dd",
   "metadata": {},
   "outputs": [],
   "source": [
    "flights %>% \n",
    "    select(contains(\"TIME\")) %>% \n",
    "    head()"
   ]
  },
  {
   "cell_type": "markdown",
   "id": "ba27816e-601b-4e2a-9bda-69e1ca0134fc",
   "metadata": {},
   "source": [
    "17. Benennt `air_time` in `air_time_min` um (um die Einheit mit anzugeben) und bewegt die Variablen an den Anfang des Data Frames."
   ]
  },
  {
   "cell_type": "code",
   "execution_count": null,
   "id": "95e6b95d-c540-4fc1-b391-2626e8ec3747",
   "metadata": {},
   "outputs": [],
   "source": [
    "flights %>%\n",
    "    select(air_time_min = air_time, everything()) %>%\n",
    "    head()"
   ]
  },
  {
   "cell_type": "markdown",
   "id": "67ccf920-8c17-4dcf-801a-5b00ec50557a",
   "metadata": {},
   "source": [
    "18. Warum funktioniert der folgende Code nicht? Und was bedeutet der Fehler?\n",
    "\n",
    "```\n",
    "flights %>%\n",
    "  select(tailnum) %>%\n",
    "  arrange(arr_delay)\n",
    "#> Error in `arrange()`:\n",
    "#> ℹ In argument: `..1 = arr_delay`.\n",
    "#> Caused by error:\n",
    "#> ! object 'arr_delay' not found\n",
    "```"
   ]
  },
  {
   "cell_type": "markdown",
   "id": "14631fdf-cd86-4f4b-9485-6df05012a50a",
   "metadata": {},
   "source": [
    "> Nach dem `select()`-Befehl ist nur noch die Variable `tail_num` vorhanden. `select()` und `arrange()` müssten vertauscht werden."
   ]
  },
  {
   "cell_type": "markdown",
   "id": "2782eb5f-4c82-4f0a-b272-b067e5d9efd7",
   "metadata": {},
   "source": [
    "19. Welche Fluggesellschaft `carrier` hat die im Durchschnitt größten Verspätungen? Welcher Flughafen `dest` hat im Durchschnitt die größen Verspätungen? Inwiefern hängen die Verspätungen zusammen? Hat ein \"schlechter\" Flughafen vielleicht auch eine Auswirkung auf eine \"schlechte\" Fluggesellschaft? Tipp: es geht in die Richtung `flights %>% group_by(carrier, dest) %>% summarize(n())`"
   ]
  },
  {
   "cell_type": "code",
   "execution_count": null,
   "id": "31041418-191c-4489-926b-83702ebc4ab2",
   "metadata": {},
   "outputs": [],
   "source": [
    "# worst average delays of the carrier\n",
    "flights %>%\n",
    "    drop_na() %>%\n",
    "    group_by(carrier) %>%\n",
    "    summarise(avg_delay = round(mean(dep_delay), 1)) %>%\n",
    "    arrange(desc(avg_delay))"
   ]
  },
  {
   "cell_type": "code",
   "execution_count": null,
   "id": "e791ba98-ae21-41de-8121-442258dd763c",
   "metadata": {},
   "outputs": [],
   "source": [
    "# worst average delay of the airport\n",
    "airport_avg_delay <- flights %>%\n",
    "    drop_na() %>%\n",
    "    group_by(dest) %>%\n",
    "    summarise(avg_delay_airport = mean(dep_delay, na.rm = TRUE))\n",
    "\n",
    "head(airport_avg_delay)"
   ]
  },
  {
   "cell_type": "code",
   "execution_count": null,
   "id": "5c4ae658-d625-4e97-8f32-4d54c55786e6",
   "metadata": {},
   "outputs": [],
   "source": [
    "# combine both results\n",
    "flights %>%\n",
    "    group_by(dest, carrier) %>%\n",
    "    summarise(avg_delay_carrier_airport = mean(dep_delay, na.rm = TRUE)) %>%\n",
    "    left_join(airport_avg_delay, by = \"dest\") %>%\n",
    "    mutate(diff_from_airport_avg = avg_delay_carrier_airport - avg_delay_airport) %>%\n",
    "    head()"
   ]
  },
  {
   "cell_type": "markdown",
   "id": "89a81b20-44b4-4555-976e-222dae696be8",
   "metadata": {},
   "source": [
    "20.  Welche Flüge haben je Flughafen die größte Verspätung? Zeige jeweils den Flug mit der größten Verspätung pro Flughafen an."
   ]
  },
  {
   "cell_type": "code",
   "execution_count": null,
   "id": "3e7e9fbd-7581-4135-9218-a06c51d70784",
   "metadata": {},
   "outputs": [],
   "source": [
    "flights %>%\n",
    "    drop_na() %>%\n",
    "    group_by(dest) %>%\n",
    "    filter(dep_delay == max(dep_delay)) %>%\n",
    "    select(dest, carrier, flight, tailnum, dep_delay) %>%\n",
    "    arrange(desc(dep_delay)) %>%\n",
    "    head()"
   ]
  },
  {
   "cell_type": "markdown",
   "id": "7e644545-5127-4d2e-a2a9-5352c315dde7",
   "metadata": {},
   "source": [
    "21. Wie verändern sich die Verspätungen im Verlauf des Tages? Speichert die Ergebnis in einem neuen Data Frame `data`. Tipp: Ihr könnt mithilfe von [`group_by()`](https://dplyr.tidyverse.org/reference/group_by.html) und [`summarise()`](https://dplyr.tidyverse.org/reference/summarise.html) eine neue Variable `avg_delay` erstellen."
   ]
  },
  {
   "cell_type": "code",
   "execution_count": null,
   "id": "9ca6396f-ae62-4d36-ae34-281100088364",
   "metadata": {},
   "outputs": [],
   "source": [
    "data = flights %>%\n",
    "    mutate(dep_time_hour = hour + minute / 60) %>% \n",
    "    group_by(dep_time_hour) %>%\n",
    "    summarise(avg_delay = mean(dep_delay, na.rm = TRUE))\n",
    "\n",
    "head(data)"
   ]
  },
  {
   "cell_type": "markdown",
   "id": "1f3e9393-ed0c-4522-ba0d-8841eced3cb7",
   "metadata": {},
   "source": [
    "22. Illustriert Antwort 3 mit einer Grafik mithilfe von [`ggplot()`](https://ggplot2.tidyverse.org/reference/ggplot.html). Tipp: Ihr könnt dafür auf der x-Achse `dep_time_hour` und auf der y-Achse die vorher erstellte Variable `avg_delay` anzeigen."
   ]
  },
  {
   "cell_type": "code",
   "execution_count": null,
   "id": "5b50e92a-5e54-4251-855d-b632a486e2ba",
   "metadata": {},
   "outputs": [],
   "source": [
    "data %>%\n",
    "    ggplot(aes(x = dep_time_hour, y = avg_delay)) +\n",
    "        geom_line(na.rm = TRUE) # fehlende Werte entfernen"
   ]
  },
  {
   "cell_type": "markdown",
   "id": "c5e74544-e49f-4b65-9b82-603b62aead55",
   "metadata": {},
   "source": [
    "## Import"
   ]
  },
  {
   "cell_type": "code",
   "execution_count": null,
   "id": "4e494b47-3f7f-489b-b559-4c1d3b6d59be",
   "metadata": {},
   "outputs": [],
   "source": [
    "pacman::p_load(tidyverse, janitor, lubridate)"
   ]
  },
  {
   "cell_type": "markdown",
   "id": "c63cd75a-afbe-4593-9af6-970e4c033dbc",
   "metadata": {},
   "source": [
    "**Fragen:**\n",
    "\n",
    "1. Welche Funktion würdet ihr benutzen um eine Datei zu lesen, die das Zeichen `|` als Trennzeichen nutzt?\n",
    "\n",
    "> `read_delim('datei.txt', delim = '|')`\n",
    "\n",
    "2. Welche Argumente haben [`read_csv()`](https://readr.tidyverse.org/reference/read_delim.html) und [`read_tsv()`](https://readr.tidyverse.org/reference/read_delim.html) gemeinsam, abgesehen von `file`, `skip` und `comment`? Tipp: Schaut hierfür in die [Dokumentation](https://readr.tidyverse.org/reference/read_delim.html) der beiden Funktionen.\n",
    "\n",
    "> Beides sind spezielle Fälle von `read_delim()` - `read_csv()` benutzt ein Komma als Trennzeichen und `read_tsv()` einen Tabulator. Für die gemeinsamen Argumente schaut in die Dokumentation.\n",
    "\n",
    "3. Schaut euch den folgenden Code an. Was passiert, wenn ihr den Code ausführt? Diskutiert, warum der Code so ausgegeben wird."
   ]
  },
  {
   "cell_type": "code",
   "execution_count": null,
   "id": "134648ef-1390-442f-87ae-f154fe96c759",
   "metadata": {},
   "outputs": [],
   "source": [
    "read_csv(\"a,b\\n1,2,3\\n4,5,6\")\n",
    "read_csv(\"a,b,c\\n1,2\\n1,2,3,4\")\n",
    "read_csv(\"a,b\\n\\\"1\")\n",
    "read_csv(\"a,b\\n1,2\\na,b\")\n",
    "read_csv(\"a;b\\n1;3\")"
   ]
  },
  {
   "cell_type": "markdown",
   "id": "51cb01a9-b591-4e0e-916c-b3e981f07192",
   "metadata": {},
   "source": [
    "4. Es kann immer wieder vorkommen, dass ihr in Datensätzen Variablen begegnet, die nicht der klassischen R-Syntax entsprechen. Im Folgenden wird ein `tibble` erzeugt, der als Spaltennamen `1` und `2` hat."
   ]
  },
  {
   "cell_type": "code",
   "execution_count": null,
   "id": "3e750e2e-cc91-4f7a-9032-2a208a89a69b",
   "metadata": {},
   "outputs": [],
   "source": [
    "# Mit diesem Code erzeugt ihr den tibble\n",
    "annoying <- tibble(\n",
    "  `1` = 1:10,\n",
    "  `2` = `1` * 2 + rnorm(length(`1`))\n",
    ")"
   ]
  },
  {
   "cell_type": "markdown",
   "id": "caccbbba-bab4-4b48-bccc-818f4a0101d2",
   "metadata": {},
   "source": [
    "Versucht die folgenden Befehle zu coden, um den Umgang mit *non-syntactic*  Variablen zu üben:\n",
    "\n",
    "* Gebt die Spalte der Variable `1` aus."
   ]
  },
  {
   "cell_type": "code",
   "execution_count": null,
   "id": "b76f40b1-da7b-43c1-85e0-33f22eabd846",
   "metadata": {},
   "outputs": [],
   "source": [
    "annoying$`1`"
   ]
  },
  {
   "cell_type": "markdown",
   "id": "1a35bf5e-5ce6-4e3e-a000-7a94597a4735",
   "metadata": {},
   "source": [
    "* Erstellt einen einfach Plot mit [`ggplot2`](https://ggplot2.tidyverse.org/), bei dem `1` auf der x-Achse liegt und `2` auf der y-Achse."
   ]
  },
  {
   "cell_type": "code",
   "execution_count": null,
   "id": "9378b539-a8ef-45fe-9628-82e90b69b53b",
   "metadata": {},
   "outputs": [],
   "source": [
    "ggplot(annoying, aes(x = `1`, y = `2`)) +\n",
    "    geom_line()"
   ]
  },
  {
   "cell_type": "markdown",
   "id": "a8e4d8ad-f728-4537-b59b-429926c3861a",
   "metadata": {},
   "source": [
    "* Fügt dem Datensatz eine neue Spalte `3` hinzu, die mit `2` geteilt durch `1` berechnet wird."
   ]
  },
  {
   "cell_type": "code",
   "execution_count": null,
   "id": "6fa25893-9199-4436-869f-27b2e08c6877",
   "metadata": {},
   "outputs": [],
   "source": [
    "annoying %>%\n",
    "    mutate(`3` = `2` / `1`)"
   ]
  },
  {
   "cell_type": "markdown",
   "id": "abfc8725-215c-4442-a32c-3d62cf5d10fa",
   "metadata": {},
   "source": [
    "* Nennt die Spalten in `one`, `two` und `three` um."
   ]
  },
  {
   "cell_type": "code",
   "execution_count": null,
   "id": "e4dd00c1-fe18-4b13-aa3f-2330af61f602",
   "metadata": {},
   "outputs": [],
   "source": [
    "annoying %>%\n",
    "    mutate(`3` = `2` / `1`) %>%\n",
    "    rename(one = `1`, two = `2`, three = `3`)"
   ]
  },
  {
   "cell_type": "markdown",
   "id": "33caadd4-ec7c-4931-81b5-79bc42c4aa39",
   "metadata": {},
   "source": [
    "5. Diskutiert zu zweit, in welchem Format die Daten vorliegen. Welche Bedeutung haben Spalten und Reihen?\n",
    "\n",
    "> Die Daten liegen als csv-Datei vor. Die Zeilen beinhalten Zeitpunkte bzw. Perioden (in stündlichem Abstand). Die Spalten sind die Ländercodes für die europäischen Bididng Zones."
   ]
  },
  {
   "cell_type": "markdown",
   "id": "c3096374-9bf4-46eb-a0c1-c0e2e51b65d1",
   "metadata": {},
   "source": [
    "6. Hat sich im Vergleich zur vorherigen Frage etwas an den Daten verändert?\n",
    "\n",
    "> Im Prinzip nicht. Wir haben lediglich alle csv-Dateien innerhalb dieses Ordners zusammengefügt. Es sind also die gleichen Spalten vorhanden, dafür aber mehr Zeilen! "
   ]
  },
  {
   "cell_type": "markdown",
   "id": "7dd69691-58d9-4afa-8935-c5a2a6424ac5",
   "metadata": {},
   "source": [
    "7. In der Spalte `index` ist das Datum gespeichert. Wie könnt ihr den Zeitraum herausfinden, in dem die Daten vorliegen?"
   ]
  },
  {
   "cell_type": "code",
   "execution_count": null,
   "id": "6b12ce86-80f8-4252-af2c-743b15a00ac0",
   "metadata": {},
   "outputs": [],
   "source": [
    "# Frühester Zeitpunkt:\n",
    "min(dayahead_raw$index)\n",
    "# Spätester Zeitpunkt:\n",
    "max(dayahead_raw$index)"
   ]
  },
  {
   "cell_type": "markdown",
   "id": "2af67732-4145-434c-af29-d3673f5d316a",
   "metadata": {},
   "source": [
    "8. Diskutiert zu zweit, inwiefern ihr gerade die Preisdaten transformiert habt. Ist klar geworden, wie das Pivotieren funktioniert?"
   ]
  },
  {
   "cell_type": "markdown",
   "id": "e721a95d-dac3-4787-a00f-99c8f28cd442",
   "metadata": {},
   "source": [
    "9. Überlegt euch kurz, wie ihr die Preisdaten sinnvoll visualisieren würdet? Welcher Parameter liegt auf der x-, welcher auf der y-Achse?\n",
    "\n",
    "> Klassischerweise würde man die Zeitachse meistens auf die x-Achse liegen und den sich über die Zeit verändernden Parameter auf die y-Achse (den der Preis hängt als Funktion von der Zeit ab, und nicht anders herum). Eine Visualisierung kann dann nach verschiedenen Diagrammtypen umgesetzt werden (s. die 2. Übung zu Grafiken)."
   ]
  },
  {
   "cell_type": "markdown",
   "id": "21e4bbe0-eff8-4f36-aa29-b605685fb849",
   "metadata": {},
   "source": [
    "10. Wie wurde in dem Code die `filter()`-Funktion verwendet?\n",
    "\n",
    "> `filter()` wird in dem Code-Beispiel genutzt, um am Anfang eine einzelne Bidding Zone herauszufiltern (in diesem Fall `\"DE_LU\"`)."
   ]
  },
  {
   "cell_type": "markdown",
   "id": "bfd1640d-ebd0-4624-950e-4a922a3b3572",
   "metadata": {},
   "source": [
    "11. Überrascht euch das Ergebnis des Plots? Wie würdet ihr den zeitlichen Verlauf bewerten/einschätzen? Habt ihr die Energiekrise 2021/2022 mitverfolgt?\n",
    "\n",
    "> 2021/2022 sind die Energiepreise stark angestiegen, zunächst als Folge auf die wirtschaftliche Krise durch die Covid-19-Pandemie, und dann später durch den russischen Angriffskrieg auf die Ukraine und die damit verbundenen Folgen für den europäischen Öl- und Gasmarkt (s. [Wikipedia](https://en.wikipedia.org/wiki/Global_energy_crisis_(2021%E2%80%93present)))."
   ]
  },
  {
   "cell_type": "markdown",
   "id": "6bd9663c-7e2d-44bc-9916-dcdff306a67e",
   "metadata": {},
   "source": [
    "12. Welche weiteren Visualisierungen würden euch interessieren? Könntet ihr diese direkt hier in diesem Notebook umsetzen? Tipp: ihr könntet z.B. das Argument `color` innerhalb von `aes()` nutzen, um mehrere Bidding Zones gleichzeitig zu visualisieren."
   ]
  },
  {
   "cell_type": "markdown",
   "id": "2238d44a-3a56-413e-b120-2473c58b1c80",
   "metadata": {},
   "source": [
    "13. Findet ihr die Datei im File-Browser? Schaut sie euch einmal kurz an, indem ihr sie mit Doppelklick oder Rechtsklick -> Open öffnet."
   ]
  },
  {
   "cell_type": "markdown",
   "id": "c69851d1-3b3a-4154-805e-f6e730fbd0d2",
   "metadata": {},
   "source": [
    "14. Kopiert euch den Code von oben zusammen, um die Geodaten aus dem genannten Verzeichnis einzulesen."
   ]
  },
  {
   "cell_type": "code",
   "execution_count": null,
   "id": "8a321070-435d-4437-acc0-ccb495103ff8",
   "metadata": {},
   "outputs": [],
   "source": [
    "geodata <-  \"data/entsoe/bidding_zones_geojson/\" %>%\n",
    "    list.files(\n",
    "        pattern = \"\\\\.geojson$\", # read only files that end with .geojson\n",
    "        full.names = TRUE\n",
    "    ) %>% \n",
    "    map(~st_read(.x, quiet = TRUE)) %>% # mit dem Argument quiet = TRUE vermeiden wir Output beim Laden der Geodaten, der uns erstmal nicht weiter interessiert\n",
    "    bind_rows()\n",
    "\n",
    "geodata %>% glimpse() # mit glimpse() können wir uns das Ergebnis wieder anschauen"
   ]
  },
  {
   "cell_type": "markdown",
   "id": "cab71758-e3f0-4132-9671-fee4f901a54c",
   "metadata": {},
   "source": [
    "15. Welche Spalten hat der geladene Datensatz und was könnten sie bedeuten?\n",
    "\n",
    "> Der Datensatz hat die beiden Spalten `zoneName` und `geometry`. Wenn wir uns an den Anfang der Übung erinnern, ist die Zeilenbezeichnung `geometry` schon mal aufgetaucht, und zwar bei dem Lärmkartierungsbeispiel! `geometry` bezeichnet in der Regel Spalten, welche Geo-Informationen beinhalten. `zoneName` steht wieder für den Namen der Bidding Zones."
   ]
  },
  {
   "cell_type": "markdown",
   "id": "354775a4-7571-4686-a3ca-4b2456ab5066",
   "metadata": {},
   "source": [
    "16. Diskutiert zu zweit, was ihr auf der Grafik seht. Könnt ihr die Bidding Zones erkennen?\n",
    "\n",
    "> Die Grafik stellt die europäischen Bidding Zones dar. Ihr könnt gerne im Internet recherchieren und die Grafik mit der Internetrecherche vergleichen."
   ]
  },
  {
   "cell_type": "markdown",
   "id": "5a2af089-1b81-4720-b3fc-fc25ef475f0c",
   "metadata": {},
   "source": [
    "17. Ohne die Namen der Bidding Zones ist die Grafik nicht so einfach zu lesen. Glücklicherweise gibt es auch dafür eine Funktion und unser Geodatensatz hat ja bereits die passende Spalte `zoneNames` dafür. Mit `geom_sf_label(aes(geometry = geometry, label = zoneName), size = 1)` könnt ihr Label hinzufügen. Für eine etwas schönere Darstellung könnt ihr auch noch `theme_minimal(base_size = 15)` benutzen. Fügt diese beiden Codeschnipsel dem letzten Code hinzu und passt ggf. die Parameter `size` und `base_size` an, um eine lesbare Karte zu erzeugen:"
   ]
  },
  {
   "cell_type": "code",
   "execution_count": null,
   "id": "30d98347-425f-4e12-83d0-4e95bc322ed8",
   "metadata": {},
   "outputs": [],
   "source": [
    "geodata %>%\n",
    "    ggplot() +\n",
    "    geom_sf(aes(geometry = geometry)) +\n",
    "    geom_sf_label(aes(geometry = geometry, label = zoneName), size = 5) +\n",
    "    theme_minimal(base_size = 15)"
   ]
  },
  {
   "cell_type": "markdown",
   "id": "fb379fcc-4334-40c3-afcb-fe9737d0ee62",
   "metadata": {},
   "source": [
    "## SQL"
   ]
  },
  {
   "cell_type": "code",
   "execution_count": null,
   "id": "55c65f2f-e37e-4ed2-b2d9-7072231c479b",
   "metadata": {},
   "outputs": [],
   "source": [
    "pacman::p_load(tidyverse,   # zum allgemeinen Datenhandling\n",
    "               DBI,         # für SQL-Abfragen\n",
    "               dbplyr,      # um dplyr-Funktionen in SQL zu \"übersetzen\"\n",
    "               duckdb,      # zur Simulation einer Datenbank\n",
    "               nycflights13 # als Beispieldaten\n",
    "              )\n",
    "\n",
    "con <- duckdb::duckdb() %>%\n",
    "    DBI::dbConnect()\n",
    "\n",
    "con %>%\n",
    "    dbWriteTable(\"flights\", nycflights13::flights)\n",
    "\n",
    "con %>%\n",
    "    dbWriteTable(\"planes\", nycflights13::planes)\n",
    "\n",
    "flights_db <- tbl(con, \"flights\")\n",
    "planes_db <- tbl(con, \"planes\")"
   ]
  },
  {
   "cell_type": "markdown",
   "id": "dc50d3fc-7026-42f5-b556-126d94b71d4e",
   "metadata": {},
   "source": [
    "1. Wie wird `distinct()` in SQL übersetzt? Und wie `head()`?"
   ]
  },
  {
   "cell_type": "code",
   "execution_count": null,
   "id": "3a429376-3061-49dc-b194-d303d864d515",
   "metadata": {},
   "outputs": [],
   "source": [
    "flights_db %>%\n",
    "    distinct(dest) %>%\n",
    "    show_query()"
   ]
  },
  {
   "cell_type": "code",
   "execution_count": null,
   "id": "34c08cbd-3e95-467d-bd92-95034f8876f5",
   "metadata": {},
   "outputs": [],
   "source": [
    "flights_db %>%\n",
    "    head(5) %>%\n",
    "    show_query()"
   ]
  },
  {
   "cell_type": "markdown",
   "id": "b1553a64-757d-4e76-9dd7-a6741f5fb244",
   "metadata": {},
   "source": [
    "2. Versucht die beiden SQL-queries im Kopf durchzudenken und zu überlegen, was diese tun. Anschließend reproduziert den Code mithilfe von `dbplyr`.\n",
    "\n",
    "```\n",
    "SELECT * \n",
    "FROM flights\n",
    "WHERE dep_delay < arr_delay\n",
    "```"
   ]
  },
  {
   "cell_type": "code",
   "execution_count": null,
   "id": "0c3fc37a-4aa0-4c10-9bd4-12d7744f931e",
   "metadata": {},
   "outputs": [],
   "source": [
    "flights_db %>%\n",
    "    filter(dep_delay < arr_delay) %>%\n",
    "    show_query()"
   ]
  },
  {
   "cell_type": "markdown",
   "id": "0ce4fcf3-88e3-4fe9-a114-4c79571e1b0d",
   "metadata": {},
   "source": [
    "```\n",
    "SELECT *, distance / (air_time / 60) AS speed\n",
    "FROM flights\n",
    "```"
   ]
  },
  {
   "cell_type": "code",
   "execution_count": null,
   "id": "e7ae5324-b34b-46eb-95d1-4dc45b4cbb76",
   "metadata": {},
   "outputs": [],
   "source": [
    "flights_db %>%\n",
    "    mutate(speed = distance/(air_time/60)) %>%\n",
    "    show_query()"
   ]
  },
  {
   "cell_type": "markdown",
   "id": "7592bd24-142c-4628-866d-da6f4838da65",
   "metadata": {},
   "source": [
    "3. Findet alle Flüge aus der Tabelle `flights_db`, die eine Verspätung von mehr als 30 Minuten hatten."
   ]
  },
  {
   "cell_type": "code",
   "execution_count": null,
   "id": "535426f5-a084-404e-aa7e-0fa7f73d9722",
   "metadata": {},
   "outputs": [],
   "source": [
    "flights_db %>%\n",
    "    filter(dep_delay > 30) %>%\n",
    "    show_query()"
   ]
  },
  {
   "cell_type": "markdown",
   "id": "754942bf-cdf5-47d8-81f5-4d51cad67934",
   "metadata": {},
   "source": [
    "4. Verwendet `dbplyr`, um die durchschnittliche Verspätung (sowohl `dep_delay` als auch `arr_delay`) pro Fluggesellschaft `carrier` zu berechnen. Überlegt euch **vorher**, wie der dazugehörige SQL-Code aussehen wird und vergleicht dann eure Ergebnisse!"
   ]
  },
  {
   "cell_type": "code",
   "execution_count": null,
   "id": "de2a9cb4-6741-45c1-acf0-5e95f0a82abd",
   "metadata": {},
   "outputs": [],
   "source": [
    "flights_db %>%\n",
    "    group_by(carrier) %>%\n",
    "    summarise(avg_dep = avg(dep_delay), avg_arr = avg(arr_delay)) %>%\n",
    "    show_query()"
   ]
  },
  {
   "cell_type": "markdown",
   "id": "91ced6e6-6433-4b02-aa53-1925724f4b06",
   "metadata": {},
   "source": [
    "5. Erzeugt eine neue Spalte in `flights_db`, die die Gesamtverspätung `total_delay` als Summe von `dep_delay` und `arr_delay` darstellt. Überlegt euch vorher, wie der dazugehörige SQL-Code aussehen wird, und vergleicht anschließend das Ergebnis damit."
   ]
  },
  {
   "cell_type": "code",
   "execution_count": null,
   "id": "da575e23-dd74-47f7-939a-781346a328c5",
   "metadata": {},
   "outputs": [],
   "source": [
    "flights_db %>%\n",
    "    mutate(total_delay = dep_delay + arr_delay) %>%\n",
    "    show_query()"
   ]
  },
  {
   "cell_type": "markdown",
   "id": "50f26fa1-1b28-429a-bb17-f8c4cd00021c",
   "metadata": {},
   "source": [
    "6. Schaut euch die Dokumentation von [`between()`](https://dplyr.tidyverse.org/reference/between.html) and und überlegt euch, wie ihr mithilfe von `filter()` und [`between()`](https://dplyr.tidyverse.org/reference/between.html) alle Flüge aus `flights_db` auswählen könnt, bei denen die `air_time` zwischen 60 und 120 Minuten und die `distance` weniger als 500 Meilen beträgt. Schaut euch anschließend an, wie das ganze in SQL-Code übersetzt wird."
   ]
  },
  {
   "cell_type": "code",
   "execution_count": null,
   "id": "0bf812e2-24ab-4395-be78-4d70fdf2d630",
   "metadata": {},
   "outputs": [],
   "source": [
    "flights_db %>%\n",
    "    filter(between(air_time, 60, 120), distance < 500) %>%\n",
    "    show_query()"
   ]
  },
  {
   "cell_type": "markdown",
   "id": "e67c2b44-3f62-4e62-9970-f9a6bb85c8c9",
   "metadata": {},
   "source": [
    "7. Was macht der folgende Code? Überlegt euch, wie das ganze in SQL aussehen wird und vergleicht anschließend.\n",
    "\n",
    "```\n",
    "flights_db %>%\n",
    "  group_by(origin) %>%\n",
    "  summarise(\n",
    "    flights_count = n(),\n",
    "    avg_dep_delay = mean(dep_delay, na.rm = TRUE),\n",
    "    max_distance = max(distance, na.rm = TRUE)\n",
    "  )\n",
    "```"
   ]
  },
  {
   "cell_type": "code",
   "execution_count": null,
   "id": "357baca2-8047-4b51-bc1d-976f28afa6fe",
   "metadata": {},
   "outputs": [],
   "source": [
    "flights_db %>%\n",
    "  group_by(origin) %>%\n",
    "  summarise(\n",
    "    flights_count = n(),\n",
    "    avg_dep_delay = mean(dep_delay, na.rm = TRUE),\n",
    "    max_distance = max(distance, na.rm = TRUE)\n",
    "  )"
   ]
  },
  {
   "cell_type": "markdown",
   "id": "5d41d7ae-2de8-4fcf-a3b9-71cff564d1e4",
   "metadata": {},
   "source": [
    "## Classification Decision Trees"
   ]
  },
  {
   "cell_type": "code",
   "execution_count": null,
   "id": "40af8801-5232-4e02-98a5-433043764fdb",
   "metadata": {},
   "outputs": [],
   "source": [
    "pacman::p_load(\n",
    "    tidyverse, \n",
    "    tidymodels,\n",
    "    rpart.plot, # rpart.plot can be used to plot our decision tree models \n",
    "    vip # create variable importance plots to evaluate the importance of each parameter in our model\n",
    ")\n",
    "\n",
    "# Jupyter Notebook options\n",
    "options(repr.plot.width = 16, repr.plot.height = 12) # make plots wider\n",
    "\n",
    "mushroom <- read_csv(\"data/mushrooms.csv\", show_col_types = FALSE) %>% # Daten einlesen\n",
    "      mutate_if(is.character,as.factor) # alle Spalten vom Typ character in Typ factor umwandeln"
   ]
  },
  {
   "cell_type": "markdown",
   "id": "061bbfe8-3996-4526-814b-04c88925ea77",
   "metadata": {},
   "source": [
    "1. Wieviele der Pilze sind `edible`? Wieviele `poisonous`?\n",
    "\n",
    "> 4208 sind `edible`, 3916 `poisonous`"
   ]
  },
  {
   "cell_type": "markdown",
   "id": "d050699c-08af-4775-a246-9d3db9731dff",
   "metadata": {},
   "source": [
    "2. Welche Farben kann `cap_color` annehmen?\n",
    "\n",
    "> brown, grey, red, yellow, white, buff, ..."
   ]
  },
  {
   "cell_type": "markdown",
   "id": "4013f403-91b2-4501-a9c7-ecffaf347dd9",
   "metadata": {},
   "source": [
    "3. Erstellt einen zweiten Plot mithilfe von `facet_wrap()`, stellt diesmal aber 6 andere Variablen und 3 Diagramme pro Spalte dar."
   ]
  },
  {
   "cell_type": "code",
   "execution_count": null,
   "id": "0c7a7080-f212-4545-953f-fd5c8f8f49b9",
   "metadata": {},
   "outputs": [],
   "source": [
    "mushroom %>%\n",
    "    select(bruises, cap_shape, cap_surface, veil_type, ring_number, ring_type) %>% \n",
    "    pivot_longer(cols = everything(), names_to = \"variable\", values_to = \"value\") %>% \n",
    "ggplot(aes(x = value)) +\n",
    "    geom_bar(stat = \"count\", color = \"black\", fill = \"lightblue\") +\n",
    "    facet_wrap(~variable, scales = \"free\", ncol = 3) + \n",
    "    labs(title = \"Häufigkeit der Variablen im mushroom Datensatz\", x = \"Variable\", y = \"Häufigkeit\") +\n",
    "    theme_minimal(base_size = 20)"
   ]
  },
  {
   "cell_type": "markdown",
   "id": "c1e97501-cee6-4b0b-9364-48f294a08f49",
   "metadata": {},
   "source": [
    "4. Erstellt ein Diagramm analog zu vorher, nur dass ihr diesmal nur eine Variable darstellt, und nicht per `facet_wrap()` mehrere. Benutzt `type` (also ob die Pilze essbar oder giftig sind) als Color-Coding. Könnt ihr daraus schon Rückschlüsse darauf ziehen, welche Pilze essbar sind, und welche nicht?"
   ]
  },
  {
   "cell_type": "code",
   "execution_count": null,
   "id": "46d2b0c6-a9aa-4038-9e76-02a02c3d5e85",
   "metadata": {},
   "outputs": [],
   "source": [
    "# Beispiel\n",
    "\n",
    "mushroom %>%\n",
    "    ggplot(aes(x = odor, fill = type)) +\n",
    "        geom_bar(stat = \"count\") +\n",
    "        theme_minimal(base_size = 20)"
   ]
  },
  {
   "cell_type": "markdown",
   "id": "fb5d5f42-7444-4f55-9fbb-fca913c5e949",
   "metadata": {},
   "source": [
    "5. Gibt den folgenden Code aus und versucht ihn anschließend zu interpretieren. Wie würdet ihr den Output lesen?\n",
    "\n",
    "```\n",
    "tree_fit$fit\n",
    "```\n",
    "\n",
    "Output:\n",
    "```\n",
    "n= 6093 \n",
    "\n",
    "node), split, n, loss, yval, (yprob)\n",
    "      * denotes terminal node\n",
    "\n",
    "1) root 6093 2953 edible (0.51534548 0.48465452)  \n",
    "  2) odor=almond,anise,none 3228   88 edible (0.97273854 0.02726146)  \n",
    "    4) spore_print_color=black,brown,buff,chocolate,orange,purple,white,yellow 3173   33 edible (0.98959975 0.01040025) *\n",
    "    5) spore_print_color=green 55    0 poisonous (0.00000000 1.00000000) *\n",
    "  3) odor=creosote,fishy,foul,musty,pungent,spicy 2865    0 poisonous (0.00000000 1.00000000) *\n",
    "```\n",
    "\n",
    "> Der Output beschreibt die Entscheidungsregeln, die sich unser Modell antrainiert hat. Jede Zeile mit einer Nummer vorne stellt eine Verzweigung im Baum dar. Die Einrückungen symbolisieren die Entscheidungsebene."
   ]
  },
  {
   "cell_type": "markdown",
   "id": "b21b61e1-2459-41ac-82cc-52e10c9fb00b",
   "metadata": {},
   "source": [
    "6. Welche Variable scheint den größten Einfluss auf die Giftigkeit/Essbarkeit der Pilze zu haben?\n",
    "\n",
    "> `odor` scheint einen großen Einfluss auf das Ergebnis des Tests zu haben, da es als erste Regel angewendet wird!"
   ]
  },
  {
   "cell_type": "markdown",
   "id": "663d9ec6-d04a-4523-94e2-891559321f75",
   "metadata": {},
   "source": [
    "7. Wie interpretiert ihr die Tabelle?\n",
    "\n",
    "```\n",
    "           Truth\n",
    "Prediction  edible poisonous\n",
    "  edible      1068        15\n",
    "  poisonous      0       948\n",
    "```\n",
    "\n",
    "> Wir haben auf der linken Seite die Vorhersagen `Prediction` und oben die tatsächlichen Werte `Truth`. In jeder Zelle steht die Anzahl der Fälle, für die eine bestimmte Kombination aus Vorhersage und tatsächlichem Wert gegeben ist."
   ]
  },
  {
   "cell_type": "markdown",
   "id": "69826c07-0239-4680-a0a2-7ff5f2ccaf6f",
   "metadata": {},
   "source": [
    "8. Wie würdet ihr die `accuracy` unseres Modells händisch mithilfe der Confusion Matrix berechnen?\n",
    "\n",
    "> $accuracy = 1 - 15 / (1068 + 15 + 948) \\thickapprox 0.993$ "
   ]
  },
  {
   "cell_type": "markdown",
   "id": "8bcca4e9-145d-47b7-b93b-167898b8d8df",
   "metadata": {},
   "source": [
    "9. Vergleicht den Variable Importance Plot mit den Regeln, die wir weiter oben mit `tree_fit$fit` ausgegeben haben. Stimmen die Ergebnisse des Variable Importance Plots mit den Regeln des Entscheidungsbaumes überein?\n",
    "\n",
    "> Wir können in dem Variable Importance Plot gut erkennen, dass die beiden wichtigsten Variablen `odor` und `spore_print_color` auch die beiden Variablen sind, die als Entscheidungsverzweigungen im Baum auftauchen!"
   ]
  },
  {
   "cell_type": "markdown",
   "id": "824b9060-86be-4de2-92c2-d5c97a3dfdbe",
   "metadata": {},
   "source": [
    "## Regressionsanalyse"
   ]
  },
  {
   "cell_type": "markdown",
   "id": "c884aca5-5870-48d1-b2cc-43971d95e6f9",
   "metadata": {},
   "source": [
    "1. Was für eine Grafik erwartet ihr, wenn die Regression für jede einzelne Spezies ausgeführt wird?\n",
    "\n",
    "> Die Regression wird pro Spezies ausgeführt. Der allgemeine Trend des Zusammenhangs von `body_mass_g` und `flipper_length_mm` sollte gleich bleiben, allerdings sind die Regressionsgeraden für die einzelnen Spezies eventuell leicht unterschiedlich."
   ]
  },
  {
   "cell_type": "markdown",
   "id": "4517358d-0fd7-483c-a372-5720b4c34bbb",
   "metadata": {},
   "source": [
    "2. Bevor ihr den Code ausführt, überlegt euch, was jede Zeile macht. Schlagt dafür gerne den Befehl `do()` einmal kurz nach!\n",
    "\n",
    "```\n",
    "penguins %>%\n",
    "    drop_na() %>% # entfernt alle NA-Werte (missing values) des Datensatzes\n",
    "    group_by(species) %>% # gruppiert den Datensatz nach der Variable species\n",
    "    do(tidy(lm(body_mass_g ~ flipper_length_mm, data = .)))\n",
    "```\n",
    "\n",
    "> `do()` wendet die Befehle innerhalb der Klammern auf jede Gruppe an, die vorher von `group_by()` erzeugt wurde. `lm(body_mass_g ~ flipper_length_mm, data = .)` ist ein lineare Modell, bei dem `body_mass_g` in Verhältnis zu `flipper_length_mm` gesetzt wird. Mit `data = .` geben wir an, dass die lineare Regression auf den gruppierten Datensatz innerhalb der Pipe angewendet wird.\n",
    ">\n",
    "> `tidy()` und `glance()` sind zwei Funktionen aus dem `tidymodels`-Paket `broom`. `tidy()` konvertiert statistische Objekte aus `base` in `tibbles`, um die Weiterverarbeitung mit `tidyverse` zu vereinfachen`. `glance()` gibt uns eine *one-row summary* statistischer Modelle aus, ebenfalls als `tibble`."
   ]
  },
  {
   "cell_type": "markdown",
   "id": "5d0d7440-cf25-44ea-9e01-1c0c3143537e",
   "metadata": {},
   "source": [
    "3. Wie würdet ihr die Werte für `r.squared` interpretieren?\n",
    "\n",
    "> `r.squared` ist sehr unterschiedlich groß für die verschiedenen Spezies. Für die Gentoo Pinguine scheint es eine größere Korrelation von `body_mass_g` und `flipper_length_mm` zu geben als bei den anderen beiden Spezies. Ein Werte von $\\approx 0.2$ ist dabei schon sehr niedrig."
   ]
  },
  {
   "cell_type": "markdown",
   "id": "d31b4d15-032c-4784-a09d-4f17ab21475e",
   "metadata": {},
   "source": [
    "4. Ladet den Datensatz mit `read_csv()` und schaut ihn euch an. Was könnte unsere Zielvariable sein, welche Variablen die relevanten Prädiktoren? Falls die Variablenbezeichnungen uneindeutig sind, schaut im UCI Machine Learning Repository nach, welche Bedeutung sie haben?\n",
    "\n",
    "> Für eine Organisation, die Bike Sharing betreibt, ist vermutlich vor allem die Variable `cnt` interessant. Diese Variable beschreibt, wieviele Fahrräder zu einem bestimmten Zeitpunkt ausgeliehen werden. Ebenfalls interessant sein könnten die Anzahl der registrierten Nutzer:innen `registered` und der **casual users** `casual` sein. Alle anderen Variablen sind Prädiktoren."
   ]
  },
  {
   "cell_type": "code",
   "execution_count": null,
   "id": "9bbf44ab-4c4f-44e7-9ba9-ec165991a11d",
   "metadata": {},
   "outputs": [],
   "source": [
    "data <- read_csv(\"data/regression/bike_sharing.csv\", show_col_types = FALSE) %>%\n",
    "    glimpse()"
   ]
  },
  {
   "cell_type": "markdown",
   "id": "0c879260-4306-4fda-953a-21d19df89534",
   "metadata": {},
   "source": [
    "5. Exploriert 1-2 Variablen mithilfe von `ggplot2`. Ihr könnt alternativ auch `facet_wrap()` benutzen, um bspw. alle numerischen Variablen zu visualisieren."
   ]
  },
  {
   "cell_type": "code",
   "execution_count": null,
   "id": "45e4f341-0505-4ce7-9277-1a261163112e",
   "metadata": {},
   "outputs": [],
   "source": [
    "data %>%\n",
    "    select(-dteday) %>%\n",
    "    select(where(is.double)) %>%\n",
    "    pivot_longer(cols = everything(), names_to = \"variable\", values_to = \"value\") %>%\n",
    "    ggplot(aes(x = value)) +\n",
    "        geom_histogram(bins = 30, color = \"black\", fill = \"lightblue\") +\n",
    "        facet_wrap(~variable, scales = \"free\", ncol = 4) +\n",
    "        labs(title = \"Histograms of Numeric Variables in the bike sharing data set\", x = \"Value\", y = \"Frequency\") +\n",
    "        theme_minimal(base_size = 20)"
   ]
  },
  {
   "cell_type": "markdown",
   "id": "1eb736f7-f7ca-4e28-8703-02038191f0df",
   "metadata": {},
   "source": [
    "6. Könnt ihr euch noch erinnern, wie ihr einen Decision Tree initialisiert? Speichert diesen in der Variable `bikes_model`."
   ]
  },
  {
   "cell_type": "code",
   "execution_count": null,
   "id": "fe000823-ac8c-4353-b833-7df3036532c0",
   "metadata": {},
   "outputs": [],
   "source": [
    "bikes_model <- decision_tree() %>%\n",
    "    set_engine(\"rpart\") %>%\n",
    "    set_mode(\"regression\")"
   ]
  },
  {
   "cell_type": "markdown",
   "id": "ce6f560c-6f75-488c-bee9-576f6a2dc2d0",
   "metadata": {},
   "source": [
    "7. Recherchiert, was die Metriken `rmse`, `rsq` und `mae` bedeuten."
   ]
  },
  {
   "cell_type": "markdown",
   "id": "8c128601-7921-4af8-b0ae-a517498bd1bc",
   "metadata": {},
   "source": [
    "> Die Metriken `rmse`, `rsq` und `mae` sind wichtige Maße zur Bewertung der Leistung von Regressionsmodellen. \n",
    "> \n",
    "> 1. **`rmse` (Root Mean Squared Error)**\n",
    "    * Der `rmse` ist die Quadratwurzel des Mittelwerts der quadrierten Abweichungen zwischen den tatsächlichen und den vorhergesagten Werten. Der `rmse` misst die durchschnittliche Abweichung eines Modells, wobei größere Fehler stärker gewichtet werden (wegen der Quadrierung). Ein niedriger RMSE-Wert bedeutet, dass das Modell gut vorhersagt.\n",
    "    * $ \\text{rmse} = \\sqrt{\\frac{1}{n} \\sum_{i=1}^{n} (y_i - \\hat{y}_i)^2}$\n",
    "      * $ y_i $: Tatsächliche Werte\n",
    "      * $ \\hat{y}_i $: Vorhergesagte Werte\n",
    "      * $ n $: Anzahl der Beobachtungen\n",
    ">\n",
    "> 2. **`rsq` (Rsquared)**\n",
    "    * `rsq` ist ein Maß für die Fähigkeit des Modells, die Datenpunkte zu erklären. Es gibt an, wie viel Prozent der Varianz der abhängigen Variable durch das Modell erklärt werden können. `rsq` = 1 bedeutet, dass das Modell alle Punkte perfekt erklärt. `rsq` = 0 bedeutet, dass das Modell nicht besser als ein einfacher Mittelwert ist.\n",
    "    * $R^2 = 1 - \\frac{\\sum_{i=1}^{n} (y_i - \\hat{y}_i)^2}{\\sum_{i=1}^{n} (y_i - \\bar{y})^2}$\n",
    "      * $\\bar{y}$: Mittelwert der tatsächlichen Werte\n",
    ">\n",
    "> 3. **`mae` (Mean Absolute Error)**\n",
    "    - `mae` beschreibt den Durchschnitt der absoluten Differenzen zwischen den tatsächlichen und den vorhergesagten Werten. Dabei werden alle Fehler gleich gewichtet, im Gegensatz zum `rmse`.\n",
    "    - $\\text{MAE} = \\frac{1}{n} \\sum_{i=1}^{n} |y_i - \\hat{y}_i|$\n",
    ">\n",
    "> * `rmse` vs. `mae`\n",
    ">   * `rmse` ist empfindlicher gegenüber Ausreißern (durch die Quadrierung der Fehler).\n",
    ">   * `mae` bietet eine robuste Schätzung der durchschnittlichen Fehlergröße.\n",
    ">   * Wenn `rmse` und `mae` ähnlich sind, gibt es wahrscheinlich keine starken Ausreißer."
   ]
  }
 ],
 "metadata": {
  "kernelspec": {
   "display_name": "R",
   "language": "R",
   "name": "ir"
  },
  "language_info": {
   "codemirror_mode": "r",
   "file_extension": ".r",
   "mimetype": "text/x-r-source",
   "name": "R",
   "pygments_lexer": "r",
   "version": "4.4.2"
  },
  "widgets": {
   "application/vnd.jupyter.widget-state+json": {
    "state": {},
    "version_major": 2,
    "version_minor": 0
   }
  }
 },
 "nbformat": 4,
 "nbformat_minor": 5
}

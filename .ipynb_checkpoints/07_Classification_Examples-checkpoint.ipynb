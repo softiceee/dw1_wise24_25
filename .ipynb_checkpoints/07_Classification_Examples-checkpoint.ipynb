{
 "cells": [
  {
   "cell_type": "markdown",
   "id": "42174c19-8825-4294-ba81-df685e03c4d3",
   "metadata": {},
   "source": [
    "Um euer erlerntes Wissen zu testen, könnt ihr jetzt ein weiteres Klassifizierungsmodell bauen, diesmal mit einem anderen Datensatz. Geht dabei analog zum Pilzbeispiel vor. Ihr könnt euch an den folgenden Schritten orientieren?\n",
    "\n",
    "* Daten explorieren und vorbereiten\n",
    "    * Ladet die Daten in die Jupyter-Umgebung.\n",
    "    * Müsst ihr den Datensatz anpassen?\n",
    "    * Wie sieht der Datensatz aus, welche Variablen gibt es?\n",
    "    * Könnt ihr den Datensatz sinnvoll visualisieren?\n",
    "* Modell trainieren\n",
    "    * Teilt den Datensatz in Trainings- und Testdaten auf.\n",
    "    * Welche Variablen sind eure Prädiktoren (predictors), welche ist eure Zielvariable (target)?\n",
    "* Modell evaluieren\n",
    "    * Wie genau ist euer Modell?\n",
    "    * Wie sieht die Confusion Matrix aus?\n",
    "    * Welche Regeln zur Klassifizierung hat euer Modell erstellt?\n",
    "    * Gibt es bestimmte Variablen, die besonders wichtig für das Modell sind? (Stichwort Variable Importance Plot)\n",
    "    * Wie sinnvoll findet ihr euer Modell für den Datensatz, den ihr ausgewählt habt?\n",
    "* Modell verbessern\n",
    "    * Könnt ihr das Modell verbessern, indem ihr eine Cost Matrix einführt?\n",
    "    * Falls ja, welche Fälle sollten unbedingt vermieden werden?"
   ]
  },
  {
   "cell_type": "markdown",
   "id": "61ab6a2e-b6f4-4800-a0ff-6afc797313ab",
   "metadata": {},
   "source": [
    "# Breast Cancer\n",
    "\n",
    "Quelle: [Breast Cancer Wisconsin (Diagnostic)](https://archive.ics.uci.edu/dataset/17/breast+cancer+wisconsin+diagnostic)\n",
    "\n",
    "Der Datensatz liegt unter `data/classification/breast_cancer.csv`."
   ]
  },
  {
   "cell_type": "markdown",
   "id": "6b3caaa0-e750-4e88-95cd-2d6e9ce39b7e",
   "metadata": {},
   "source": [
    "# German credit data\n",
    "\n",
    "Quelle: [German credit data](http://archive.ics.uci.edu/dataset/144/statlog+german+credit+data)\n",
    "\n",
    "Der Datensatz liegt unter `data/classification/credit.csv`."
   ]
  }
 ],
 "metadata": {
  "kernelspec": {
   "display_name": "R",
   "language": "R",
   "name": "ir"
  },
  "language_info": {
   "codemirror_mode": "r",
   "file_extension": ".r",
   "mimetype": "text/x-r-source",
   "name": "R",
   "pygments_lexer": "r",
   "version": "4.4.2"
  },
  "widgets": {
   "application/vnd.jupyter.widget-state+json": {
    "state": {},
    "version_major": 2,
    "version_minor": 0
   }
  }
 },
 "nbformat": 4,
 "nbformat_minor": 5
}

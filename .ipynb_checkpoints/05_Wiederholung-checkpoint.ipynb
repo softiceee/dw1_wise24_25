{
 "cells": [
  {
   "cell_type": "markdown",
   "id": "7268a28c-623a-481c-85b7-9f34c7f06e15",
   "metadata": {},
   "source": [
    "# vparty (vdemdata)\n",
    "`vdemdata`: Extrem umfangreiche Daten zum weltweiten Stand der Demokratie. Das Paket beinhaltet neben `vdem` (democracy ratings) auch `vparty` (political parties). Quelle: [The V-Dem Dataset](https://www.v-dem.net/data/the-v-dem-dataset/). \n",
    "\n",
    "[Documentation on Github](https://github.com/vdeminstitute/vdemdata)."
   ]
  },
  {
   "cell_type": "code",
   "execution_count": null,
   "id": "6ae36803-ba7b-42f1-8b27-9c4b7347c4d5",
   "metadata": {},
   "outputs": [],
   "source": [
    "pacman::p_load(tidyverse, devtools)\n",
    "devtools::install_github(\"vdeminstitute/vdemdata\") # wir installieren ein Paket direkt von Github\n",
    "library(vdemdata)\n",
    "vparty %>% head(5) #vparty ist der Datensatz"
   ]
  },
  {
   "cell_type": "markdown",
   "id": "1a2cc973-6878-4c10-a5b7-c2dc74dd9ae3",
   "metadata": {},
   "source": [
    "# WDI\n",
    "\n",
    "World Bank Data zu globale sozioökonomische Faktoren wie GDP per capita, Total population, CO2 emissions uvm.\n",
    "\n",
    "[Documentation on Github](https://github.com/vincentarelbundock/WDI)"
   ]
  },
  {
   "cell_type": "code",
   "execution_count": null,
   "id": "4a5b5708-d9d6-43e1-b24a-d1e6f3630dd2",
   "metadata": {},
   "outputs": [],
   "source": [
    "pacman::p_load(tidyverse, WDI)\n",
    "\n",
    "# Fetch GDP per capita data for selected European countries\n",
    "data <- WDI(\n",
    "    indicator = 'NY.GDP.PCAP.KD', \n",
    "    country = c('DE', 'FR', 'GB'), \n",
    "    start = 1990, \n",
    "    end = 2020\n",
    ")\n",
    "# examples for indicators\n",
    "# NY.GDP.PCAP.KD (GDP per capita)\n",
    "# SP.POP.TOTL (Total population)\n",
    "# EN.ATM.CO2E.PC (CO2 emissions (metric tons per capita))\n",
    "# SE.XPD.TOTL.GD.ZS (Government expenditure on education as % of GDP)"
   ]
  },
  {
   "cell_type": "markdown",
   "id": "a494af11-4328-43f2-b406-eddb08ad9947",
   "metadata": {},
   "source": [
    "# ggplot2 data sets\n",
    "\n",
    "* `msleep`: Sleep data from 83 mammals: [Documentation](https://www.rdocumentation.org/packages/ggplot2/versions/3.5.0/topics/msleep)\n",
    "* `mpg`: Car and fuel efficiency data from the US Environmental Protection Agency (EPA): [Documentation](https://www.rdocumentation.org/packages/ggplot2/versions/3.5.0/topics/mpg)."
   ]
  },
  {
   "cell_type": "code",
   "execution_count": null,
   "id": "a9898082-d305-4e59-a739-752154948182",
   "metadata": {},
   "outputs": [],
   "source": [
    "pacman::p_load(tidyverse)\n",
    "\n",
    "msleep %>% head()\n",
    "mpg %>% head()"
   ]
  },
  {
   "cell_type": "markdown",
   "id": "e64daef4-0a98-4bed-b4c0-2e18c015ba32",
   "metadata": {},
   "source": [
    "# Corruption Perceptions Index\n",
    "\n",
    "Der Corruption Perceptions Index von Transparency International gibt jährliche Auskunft über die weltweite Entwicklung von Korruption: [Corruption Perceptions Index](https://www.transparency.de/cpi/cpi-2022/cpi-2022-tabellarische-rangliste)"
   ]
  },
  {
   "cell_type": "code",
   "execution_count": null,
   "id": "efa14c93-a694-440f-bf9f-c3379a6c17e7",
   "metadata": {},
   "outputs": [],
   "source": [
    "pacman::p_load(tidyverse, readxl)\n",
    "\n",
    "# Die Daten liegen im Verzeichnis data/cpi/"
   ]
  }
 ],
 "metadata": {
  "kernelspec": {
   "display_name": "R",
   "language": "R",
   "name": "ir"
  },
  "language_info": {
   "codemirror_mode": "r",
   "file_extension": ".r",
   "mimetype": "text/x-r-source",
   "name": "R",
   "pygments_lexer": "r",
   "version": "4.4.1"
  },
  "widgets": {
   "application/vnd.jupyter.widget-state+json": {
    "state": {},
    "version_major": 2,
    "version_minor": 0
   }
  }
 },
 "nbformat": 4,
 "nbformat_minor": 5
}

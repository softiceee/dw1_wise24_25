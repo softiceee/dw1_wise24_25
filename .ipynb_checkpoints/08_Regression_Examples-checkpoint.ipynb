{
 "cells": [
  {
   "cell_type": "markdown",
   "id": "62acce6f-dac1-4867-bf29-301c1d72e438",
   "metadata": {},
   "source": [
    "Hier findet ihr weitere Datensätze, die ihr modellieren könnt. Folgt dabei wieder den bisher kennengelernten Schritten. \n",
    "\n",
    "Könnt ihr ggf. sogar die Performance verschiedener Ansätze miteinander vergleichen (Decision Trees vs. Random Forests vs. Random Forests mit Tuning)?\n",
    "\n",
    "* Daten explorieren und vorbereiten\n",
    "    * Ladet die Daten in die Jupyter-Umgebung.\n",
    "    * Wie sieht der Datensatz aus, welche Variablen gibt es?\n",
    "    * Müsst ihr den Datensatz anpassen?\n",
    "    * Teilt den Datensatz in Trainings- und Testdaten auf.\n",
    "* Modell trainieren\n",
    "    * Erstellt ein geeignetes `recipe` für das Pre-Processing\n",
    "    * Entscheidet euch für ein Modell (Decision Tree oder Random Forests)\n",
    "    * Formalisiert `recipe` und Modell in einem Workflow\n",
    "    * Welche Variablen sind eure Prädiktoren (predictors), welche ist eure Zielvariable (target)?\n",
    "    * Trainiert das Modell auf den Trainingsdaten\n",
    "* Optional: Modell tunen\n",
    "    * Könnt ihr die Modell-Performance verbessern, indem ihr das Modell tuned?\n",
    "    * Welche Modell-Parameter liefern besonders gute Ergebnisse?\n",
    "* Modell evaluieren\n",
    "    * Wie gut ist die Performance eures Modells?\n",
    "    * Gibt es bestimmte Variablen, die besonders wichtig für das Modell sind? (Stichwort Variable Importance Plot)\n",
    "    * Wie sinnvoll findet ihr euer Modell für den Datensatz, den ihr ausgewählt habt?"
   ]
  },
  {
   "cell_type": "markdown",
   "id": "1a92dfc7-ce17-41e4-9505-25e4f82521b2",
   "metadata": {},
   "source": [
    "# Concrete Compressive Strength\n",
    "\n",
    "Quelle: [Concrete Compressive Strength](https://archive.ics.uci.edu/dataset/165/concrete+compressive+strength)\n",
    "\n",
    "Der Datensatz liegt unter `data/regression/concrete_strength.csv`."
   ]
  },
  {
   "cell_type": "markdown",
   "id": "618000ee-8edf-4762-9d11-2c9d3ff80784",
   "metadata": {},
   "source": [
    "# Real Estate Valuation\n",
    "\n",
    "Quelle: [Real Estate Valuation](https://archive.ics.uci.edu/dataset/477/real+estate+valuation+data+set)\n",
    "\n",
    "Der Datensatz liegt unter `data/regression/real_estate_valuation.csv`."
   ]
  },
  {
   "cell_type": "markdown",
   "id": "87f5fc7e-282d-4c9a-a8cf-b754fbe868d7",
   "metadata": {},
   "source": [
    "# Wine Quality\n",
    "\n",
    "Quelle: [Wine Quality](https://archive.ics.uci.edu/dataset/186/wine+quality)\n",
    "\n",
    "Der Datensatz liegt unter `data/regression/wine_quality.csv`."
   ]
  }
 ],
 "metadata": {
  "kernelspec": {
   "display_name": "R",
   "language": "R",
   "name": "ir"
  },
  "language_info": {
   "codemirror_mode": "r",
   "file_extension": ".r",
   "mimetype": "text/x-r-source",
   "name": "R",
   "pygments_lexer": "r",
   "version": "4.4.2"
  },
  "widgets": {
   "application/vnd.jupyter.widget-state+json": {
    "state": {},
    "version_major": 2,
    "version_minor": 0
   }
  }
 },
 "nbformat": 4,
 "nbformat_minor": 5
}

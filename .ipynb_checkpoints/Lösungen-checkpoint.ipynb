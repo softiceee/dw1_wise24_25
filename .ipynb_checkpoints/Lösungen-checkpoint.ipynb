{
 "cells": [
  {
   "cell_type": "code",
   "execution_count": null,
   "id": "6213230b-1cd3-4d18-89ca-7bacaaf8d248",
   "metadata": {},
   "outputs": [],
   "source": [
    "# Jupyter Notebook options\n",
    "\n",
    "# Set the default plot width for Jupyter Notebook display\n",
    "options(repr.plot.width = 12, repr.plot.height = 8)"
   ]
  },
  {
   "cell_type": "markdown",
   "id": "f93876a0-c805-48e3-9a79-9f085cdb8fcc",
   "metadata": {},
   "source": [
    "# Lösungen\n",
    "\n",
    "In diesem Notebook finden sich alle Lösungen der bisher stattgefundenen Übungen. Für die Übersichtlichkeit werden lediglich Aufgabe und Lösung aufgeführt."
   ]
  },
  {
   "cell_type": "markdown",
   "id": "6c9a7719-5ad8-4b97-a530-84b314764645",
   "metadata": {},
   "source": [
    "## Einführung"
   ]
  },
  {
   "cell_type": "code",
   "execution_count": null,
   "id": "5426da9b-40f4-4172-ba48-d84c55c99386",
   "metadata": {},
   "outputs": [],
   "source": [
    "pacman::p_load(tidyverse)"
   ]
  },
  {
   "cell_type": "markdown",
   "id": "731cc3d0-c872-4053-a383-d8ba7efd2dc7",
   "metadata": {},
   "source": [
    "1. Dieser Code wirft eine Fehlermeldung aus, da wir den Befehl print() aus Versehen groß geschrieben haben. Probiere doch mal, den Code zu korrigieren, und führe die Zelle erneut aus!"
   ]
  },
  {
   "cell_type": "code",
   "execution_count": null,
   "id": "4244238f-d618-433e-acc6-d15dfa77edf6",
   "metadata": {},
   "outputs": [],
   "source": [
    "x = 3\n",
    "print(x) # die Groß- und Kleinschreibung ist wichtig!"
   ]
  },
  {
   "cell_type": "markdown",
   "id": "5699651b-bbe6-4fff-b13d-fc60e09f8e21",
   "metadata": {},
   "source": [
    "2. Versucht doch mal, aus einer eigenen Zahlenkombination den Durchschnitt mithilfe von `mean()` zu berechnen! Tipp: Ihr müsst der Funktion dafür eine Liste übergeben – also z.B. `c(1, 2, 3, 4)`."
   ]
  },
  {
   "cell_type": "code",
   "execution_count": null,
   "id": "e2293a9f-14f3-4243-907e-d8acca10acd3",
   "metadata": {},
   "outputs": [],
   "source": [
    "y = c(1, 2, 3, 4) # man kann die Liste erst zuweisen\n",
    "mean(y) # und dann den Durchschnitt ausgeben\n",
    "mean(c(1, 2, 3, 4)) # oder die Liste direkt übergeben"
   ]
  },
  {
   "cell_type": "markdown",
   "id": "cee623eb-3f32-4221-98f7-b8ef38f0f144",
   "metadata": {},
   "source": [
    "3. Überlegt euch, was die folgende Funktion macht, und kommentiert die wichtigsten Zeilen direkt im Code. Führt die Zelle anschließend aus, um zu schauen, was das Ergebnis ist. Stimmt das Ergebnis mit euren Überlegungen überein?"
   ]
  },
  {
   "cell_type": "code",
   "execution_count": null,
   "id": "a0d5bdcc-b64c-4294-872d-21758583ef03",
   "metadata": {},
   "outputs": [],
   "source": [
    "divison <- function(x, y){ # wir übergeben der Funktion \"divison()\" die Parameter x und y\n",
    "    ergebnis = x / y # Dann teilen wir x durch y und speichern das Ergebnis in der Variable \"ergebnis\"\n",
    "    return(paste0(\"Das Ergebnis ist \", ergebnis)) # Anschließend geben wir mithilfe von paste0() die Kombination aus unserem Satz und ergebnis zurück\n",
    "}\n",
    "\n",
    "divison(6, 3) # und schlussendlich rufen wir die Funktion mit den Zahlen 6 und 3 auf"
   ]
  },
  {
   "cell_type": "markdown",
   "id": "5fe4285f-6a86-4cf2-9db1-c2ec6843ba25",
   "metadata": {},
   "source": [
    "4. Wie müsst ihr den folgenden Code verändern, damit er keine Fehlermeldung mehr ausgibt? Tipp: `sqrt(x)` gibt die Wurzel von x zurück."
   ]
  },
  {
   "cell_type": "code",
   "execution_count": null,
   "id": "68355c94-8610-49ff-af7a-56c8a49467aa",
   "metadata": {},
   "outputs": [],
   "source": [
    "wurzel <- function(x){\n",
    "    print(\n",
    "        paste(\"Die Wurzel von \", x, \" ist gleich \" , sqrt(x)) # die Klammersetzung hat hier nicht gestimmt\n",
    "    )\n",
    "}\n",
    "\n",
    "x = 9\n",
    "wurzel(x) # hier fehlte das Argument"
   ]
  },
  {
   "cell_type": "markdown",
   "id": "167a0895-76a8-4394-b197-c538caca0f60",
   "metadata": {},
   "source": [
    "5. Schreibe eine Funktion, der man die Werte `x` und `y` übergeben kann und die das Produkt dieser Parameter ausgibt!"
   ]
  },
  {
   "cell_type": "code",
   "execution_count": null,
   "id": "8d68a4cf-4217-4ea3-be08-48f069b7987c",
   "metadata": {},
   "outputs": [],
   "source": [
    "multiplication <- function(x, y){ # wir übergeben die Werte x und y\n",
    "    return(x * y) # und geben das Produkt der beiden Werte zurück\n",
    "    }\n",
    "\n",
    "multiplication(3, 4) # hier wird die Funktion aufgerufen"
   ]
  },
  {
   "cell_type": "markdown",
   "id": "b0ee6f31-b7d9-48a3-b406-526bf32c318a",
   "metadata": {},
   "source": [
    "6. Verändert die Werte von `x` und `y`, sodass beide Werte Nachkommastellen enthalten. In R ist der Dezimaltrenner der Punkt `.`. Wie kann der Code erweitert werden, sodass das Ergebnis auf 2 Nachkommastellen gerundet wird?"
   ]
  },
  {
   "cell_type": "code",
   "execution_count": null,
   "id": "f5016c4e-fc69-429d-b9cf-f9c6c07be3aa",
   "metadata": {},
   "outputs": [],
   "source": [
    "multiplication <- function(x, y){ # wir übergeben die Werte x und y\n",
    "    return(round(x * y, 2)) # und geben das Produkt der beiden Werte zurück und runden auf 2 Nachkommastellen\n",
    "    }\n",
    "\n",
    "multiplication(3.33, 4.44) # hier wird die Funktion aufgerufen"
   ]
  },
  {
   "cell_type": "markdown",
   "id": "5b0f37b4-d9ff-45aa-a5dd-54e31e1b1bee",
   "metadata": {},
   "source": [
    "7. Schreibe eine Funktion, die das heutige Datum und die momentane Uhrzeit ausgibt. Tipp: Benutze [`Sys.Date()`](https://www.rdocumentation.org/packages/base/versions/3.6.2/topics/Sys.time) und suche im Internet nach eine ähnlichen Funktion, die die Uhrzeit ausgibt! Ihr könnt auch `paste0()` benutzen, sodass die Uhrzeit mit einem netten Gruß ausgegeben wird."
   ]
  },
  {
   "cell_type": "code",
   "execution_count": null,
   "id": "757730d8-5fba-457c-80ca-1e962f777a7f",
   "metadata": {},
   "outputs": [],
   "source": [
    "wievieluhr <- function(){ # man kann Funktionen auch ohne Parameter definieren!\n",
    "    print(paste0(\"Momentanes Datum und Uhrzeit: \", Sys.time())) # Wir benutzen direkt die Funktion Sys.time()\n",
    "    }\n",
    "\n",
    "wievieluhr()"
   ]
  },
  {
   "cell_type": "markdown",
   "id": "5027333a-57a3-416d-9e67-27df384fb95e",
   "metadata": {},
   "source": [
    "8. Erstellt eine Sequenz von Nummern zwischen 1 und 100 mit einem Intervall von 5. Recherchiert dafür, welche eingebaute Funktion in R ihr dafür benutzen könnt."
   ]
  },
  {
   "cell_type": "code",
   "execution_count": null,
   "id": "0efdafee-6117-4f41-812f-ffd6bd0337d6",
   "metadata": {},
   "outputs": [],
   "source": [
    "seq(from = 1, to = 100, by = 5) # base hat eine eigene Funktion für die Erstellung von Sequenzen\n",
    "\n",
    "# dokumentiert unter https://www.rdocumentation.org/packages/base/versions/3.6.2/topics/seq"
   ]
  },
  {
   "cell_type": "markdown",
   "id": "ec1a2130-4256-4bf6-8678-bba5acf354c6",
   "metadata": {},
   "source": [
    "9. Erstelle einen Vektor mit beliebigen Ziffern. Wie könnt ihr jedes Element des Vektors mit 3 multiplizieren und anschließend einem neuen Vektor zuweisen?"
   ]
  },
  {
   "cell_type": "code",
   "execution_count": null,
   "id": "0990bc71-5e86-4f88-b0b0-b151d67b2efa",
   "metadata": {},
   "outputs": [],
   "source": [
    "random_vector <- runif(10, min = 1, max = 100) # runif generates random numbers from a uniform distribution\n",
    "\n",
    "multiplied_vector <- random_vector * 3 # you can easily use operators on all elements of vectors\n",
    "\n",
    "print(multiplied_vector)"
   ]
  },
  {
   "cell_type": "markdown",
   "id": "fbab9df3-1832-4467-b841-20799af27102",
   "metadata": {},
   "source": [
    "10. Wie könnt ihr euch jedes 2. Element des vorher erstellten Vektors ausgeben lassen?"
   ]
  },
  {
   "cell_type": "code",
   "execution_count": null,
   "id": "b4b65dff-44c4-4b83-9da8-17a4fadaa4dc",
   "metadata": {},
   "outputs": [],
   "source": [
    "# wir können auf die einzelnen Elemente des Vektors mit den eckigen Klammern [] zugreifen\n",
    "# um jedes 2. Element zu definieren, erstellen wir wieder eine Sequenz mit der Länge des Vektors, die bei 2 startet und sich dann um jeweils 2 erhöht\n",
    "multiplied_vector[seq(2, length(multiplied_vector), by = 2)]\n",
    "\n",
    "# Achtung! R benutzt 1-indexing, d.h. das Indexing startet bei 1 - bei vielen anderen Programmiersprachen ist es üblich,\n",
    "# dass das erste Element eines Vektors mit der 0 indiziert wird"
   ]
  },
  {
   "cell_type": "markdown",
   "id": "4cac8346-989b-4f24-8f3d-ca8cf18f188a",
   "metadata": {},
   "source": [
    "11. Wie könnt ihr den Vektor sortieren? Findet außerdem das Minimum und das Maximum des Vektors. Nehmt euch dafür eingebaute R-Funktionen zur Hilfe."
   ]
  },
  {
   "cell_type": "code",
   "execution_count": null,
   "id": "8b597db2-558a-494f-b7f5-6f0238b9309d",
   "metadata": {},
   "outputs": [],
   "source": [
    "# Auch hier hat base wieder eigens eingebaute Funktionen\n",
    "\n",
    "sort(multiplied_vector)\n",
    "min(multiplied_vector)\n",
    "max(multiplied_vector)"
   ]
  },
  {
   "cell_type": "markdown",
   "id": "360df84d-a464-47a5-8d98-5acb2249c973",
   "metadata": {},
   "source": [
    "## Visualization"
   ]
  },
  {
   "cell_type": "code",
   "execution_count": null,
   "id": "8c42e2a0-e977-40c2-b1e5-3d1dd6e599e0",
   "metadata": {},
   "outputs": [],
   "source": [
    "pacman::p_load(tidyverse, palmerpenguins)"
   ]
  },
  {
   "cell_type": "markdown",
   "id": "e6c06264-7d78-4f9c-baa3-33078053aaad",
   "metadata": {},
   "source": [
    "1. Welche anderen Variablen tauchen noch im Datensatz auf? (also neben `species` oder `bill_length_mm`?\n",
    "\n",
    "> `island`, `bill_depth_mm`, `flipper_length_mm`, `body_mass_g`, `sex`, `year`\n",
    "\n",
    "2. Welche von ihnen könnten besonders interessant sein?\n",
    "\n",
    "> Das kommt sehr auf die Forschungsfrage an.\n",
    "\n",
    "3. Welche Einheiten haben die einzelnen Variablen?\n",
    "\n",
    "> Die Einheiten sind hinten in der Variablenbezeichnung aufgeführt (das Körpergewicht ist z.B. in g angegeben).\n",
    "\n",
    "4. Welche Unterschiede erkennt ihr zwischen den einzelnen Variablen? Was wäre z. B. ein Unterschied zwischen der Variable \n",
    "\n",
    "> `species` und `body_mass_g`? (das statistische Stichwort dazu ist das **Datenniveau**)\n",
    "`body_mass_g` ist eine kontinuierliche Variable (sie kann jede beliebige Zahl über 0 annehmen. `species` hingegen ist eine kategorische bzw. diskrete Variable, da nur 3 verschiedene Spezies im Datensatz enthalten sind.\n",
    "\n",
    "5. Was könnte man mit dem Pinguin-Datensatz herausfinden? Denkt euch zwei Fragestellungenen aus, die sich theoretisch untersuchen lassen würden. Keine Sorge, ihr müsst diese anschließend nicht weiter nachverfolgen.\n",
    "\n",
    "> a) Wie ist der Zusammenhang zwischen dem biologischen Geschlecht und der Größe und dem Gewicht der Pinguine? Gibt es hierbei Unterschiede zwischen den verschiedenen Spezies? b) Welche Spezies leben auf welcher Insel und inwiefern unterscheiden sich die Pinguine pro Insel?"
   ]
  },
  {
   "cell_type": "markdown",
   "id": "4167b0f0-d206-4932-9301-f4e249971265",
   "metadata": {},
   "source": [
    "6. Was beschreibt die Variable `bill_depth_mm`? Tipp: schaue in der Dokumentation von `palmerpenguins` mithilfe von `?penguins` nach.\n",
    "\n",
    "> `bill_depth_mm` = a number denoting bill depth (millimeters)"
   ]
  },
  {
   "cell_type": "markdown",
   "id": "f94cbc96-df3c-40dd-b770-084068bdce28",
   "metadata": {},
   "source": [
    "7. Müssen wir dafür [`aes()`](https://ggplot2.tidyverse.org/reference/aes.html) oder das **geom** verändern?\n",
    "\n",
    "> Dafür muss das *aesthetic mapping* [`aes()`](https://ggplot2.tidyverse.org/reference/aes.html) angepasst werden."
   ]
  },
  {
   "cell_type": "markdown",
   "id": "9b26a4c8-048a-4503-8a4a-eeef22545f78",
   "metadata": {},
   "source": [
    "8. Welchen Zusammenhang erwartet ihr intutitiv zwischen den beiden Variablen?\n",
    "\n",
    "> Eine größere Schnabellänge `bill_length_mm` sollte vermutlich auch eine größere Schnabeltiefe `bill_depth_mm` bedeuten.\n",
    "\n",
    "9. Wie könnten diese beiden Variablen von `species` und `sex` abhängen?\n",
    "\n",
    "> Unterschiedliche `species` haben vermutlich unterschiedliche Größen, was sich dann wiederum auch in der Schnabellänge und -tiefe wiederspiegeln würde. Ähnlich sollte es beim biologischen Geschlecht `sex` sein. Um genauere Informationen darüber zu erfahren, müssen wir in die Daten gucken.\n",
    "\n",
    "10. Erstellt einen Plot, bei dem `bill_depth_mm` auf der x-Achse liegt und `bill_length_mm` auf der y-Achse:"
   ]
  },
  {
   "cell_type": "code",
   "execution_count": null,
   "id": "f8cc4c11-00ef-4637-b59f-4fc656a3e021",
   "metadata": {},
   "outputs": [],
   "source": [
    "ggplot(penguins, aes(x = bill_depth_mm, y = bill_length_mm)) +\n",
    "    geom_point()"
   ]
  },
  {
   "cell_type": "markdown",
   "id": "58d0f5d1-a58d-49c2-b1c9-52df89855047",
   "metadata": {},
   "source": [
    "11. Entspricht das Ergebnis euren intuitiven Vermutungen?\n",
    "\n",
    "> In der Grafik ist es bisher sehr schwierig, einen Zusammenhang zu erkennen, weil wir noch nicht die einzelnen Spezies gekennzeichnet haben.\n",
    "\n",
    "12. Welchen Zusammenhang erkennt ihr zwischen `bill_depth_mm` und `bill_length_mm` innerhalb der einzelnen Cluster (Spezies)?\n",
    "\n",
    "> Hierfür können wir die gleiche Grafik nochmal ausgeben, aber diesmal die Spezies einfärben. Dann sehen wir, ein grober Zusammenhang zwischen Schnabeltiefe und -länge besteht (innerhalb der einzelnen Cluster bedeuten größere Schnabeltiefen tendenziell auch größere Schnabellängen)."
   ]
  },
  {
   "cell_type": "code",
   "execution_count": null,
   "id": "f7d427c4-0a5e-4eec-8b5e-d08b00caa470",
   "metadata": {},
   "outputs": [],
   "source": [
    "ggplot(penguins, aes(x = bill_depth_mm, y = bill_length_mm, color = species)) +\n",
    "    geom_point()"
   ]
  },
  {
   "cell_type": "markdown",
   "id": "b4dded18-730f-47d1-8985-8a23e0fbbd2f",
   "metadata": {},
   "source": [
    "13. Was passiert, wenn Du ein Streudiagramm von `species` vs. `bill_depth_mm` erzeugst? Was könnte ein besseres **geom** sein, um dieses Verhältnis darzustellen?\n",
    "\n",
    "> Ein besseres **geom** wäre z.B. ein Balkendiagramm, welches später in der Übung erwähnt wird."
   ]
  },
  {
   "cell_type": "code",
   "execution_count": null,
   "id": "f19d46d0-48ca-440b-b1c4-0eacb9ba8fe4",
   "metadata": {},
   "outputs": [],
   "source": [
    "ggplot(data = penguins, aes(x = species, y = bill_depth_mm)) +\n",
    "    geom_point()"
   ]
  },
  {
   "cell_type": "markdown",
   "id": "8deaa994-8221-44c7-bfa3-ca5170eab5b7",
   "metadata": {},
   "source": [
    "14. Warum würde der folgende Code eine Fehlermeldung ausgeben? Und wie könnte man diese beheben?\n",
    "```\n",
    "ggplot(data = penguins) +\n",
    "    geom_point()\n",
    "```"
   ]
  },
  {
   "cell_type": "code",
   "execution_count": null,
   "id": "14425f93-bde6-4c42-a3fd-bb0995f6fcf9",
   "metadata": {},
   "outputs": [],
   "source": [
    "ggplot(data = penguins, aes(x = body_mass_g, y = bill_depth_mm)) + # es fehlt das aesthetic mapping aes()\n",
    "    geom_point()"
   ]
  },
  {
   "cell_type": "markdown",
   "id": "e554b38d-1714-48c9-86c5-9c47f31e8f10",
   "metadata": {},
   "source": [
    "15. Wie kann man die Schriftgröße oder die Schriftart des Plots verändern? Recherchiert mithilfe von Suchmaschinen oder ChatGPT, wie das möglich sein könnte."
   ]
  },
  {
   "cell_type": "code",
   "execution_count": null,
   "id": "074333b4-1e86-4451-a80c-7b274a02a399",
   "metadata": {},
   "outputs": [],
   "source": [
    "ggplot(data = penguins, aes(x = body_mass_g, y = bill_depth_mm)) +\n",
    "    geom_point() +\n",
    "    theme_minimal(base_size = 20) # mithilfe des Arguments base_size"
   ]
  },
  {
   "cell_type": "markdown",
   "id": "f5060217-a990-4039-9922-7081ac5dda33",
   "metadata": {},
   "source": [
    "16. Wir nehmen an, dass sich die Variable $xy$ der Pinguine durch die einfache Formel `body_mass_g / flipper_length_mm ** 2` berechnen lässt. Der Slash `/` funktioniert hier als Divisor und `**` als Potenz:\n",
    "  \n",
    "$ \\frac{body\\_mass\\_g}{flipper\\_length\\_mm^2} $.\n",
    "\n",
    "Verändert den Code, sodass die Farbe durch die neue Variable $xy$ gegeben ist. Tipp: Ihr könnt eine neue Spalte mithilfe des `$`-Operators hinzufügen: `data_frame$new_column <- Berechnung`"
   ]
  },
  {
   "cell_type": "code",
   "execution_count": null,
   "id": "bb750f5a-8821-4112-9262-5f74f09d43ff",
   "metadata": {},
   "outputs": [],
   "source": [
    "penguins$xy = penguins$body_mass_g / penguins$flipper_length_mm ** 2\n",
    "ggplot(penguins, aes(x = body_mass_g, y = flipper_length_mm, color = BMI)) +\n",
    "    geom_point()"
   ]
  },
  {
   "cell_type": "markdown",
   "id": "2c034a55-acd8-448a-956d-a7ef28ead29e",
   "metadata": {},
   "source": [
    "17. Kannst du die Datei im File Browser finden und öffnen? Wie würde man sie auf deiner lokalen Festplatte (aka deinem Computer) speichern?\n",
    "\n",
    "> Innerhalb der Funktion `ggsave()` kann man das Argument `path = \"your/directory/\"` angeben. Unter diesem Pfad auf dem Jupyter-Server wird die Datei gespeichert. Anschließend kannst du sie mit Rechtsklick -> Download herunterladen."
   ]
  },
  {
   "cell_type": "markdown",
   "id": "9a63043f-fb36-4d3b-942f-b0ee24025eb5",
   "metadata": {},
   "source": [
    "18. Auch wenn es trivial erscheinen mag, was sagt dieser Plot über den Datensatz aus?"
   ]
  },
  {
   "cell_type": "code",
   "execution_count": null,
   "id": "74b78b4a-9f4f-45e5-accf-87ba4bcc8122",
   "metadata": {},
   "outputs": [],
   "source": [
    "ggplot(penguins, aes(x = species)) +\n",
    "    geom_bar()"
   ]
  },
  {
   "cell_type": "markdown",
   "id": "39e75d4d-6af8-4e93-8f93-ee5ea2830b70",
   "metadata": {},
   "source": [
    "> Durch dieses Balkendiagramm erhalten wir direkt einen visuell aussagekräftigen Überblick, wieviele Pinguine von welcher Spezies vorhanden sind.\n",
    "\n",
    "19. Füge mithilfe von [`labs()`](https://ggplot2.tidyverse.org/reference/labs.html) aussagekräftige Beschriftungen hinzu.\n",
    "20. Füge eine Theme hinzu, z.B. mit [`theme_minimal()`](https://ggplot2.tidyverse.org/reference/ggtheme.html). Ihr könnt auch andere [Themes](https://ggplot2.tidyverse.org/reference/ggtheme.html) ausprobieren!"
   ]
  },
  {
   "cell_type": "code",
   "execution_count": null,
   "id": "6dc357b3-ab62-4fac-b732-7184d9101114",
   "metadata": {},
   "outputs": [],
   "source": [
    "ggplot(penguins, aes(x = species, fill = island)) +\n",
    "    geom_bar()  +\n",
    "    labs(\n",
    "        x = \"Spezies\", # x-Achsenbeschriftung\n",
    "        y = \"Anzahl\", # y-Achsenbeschriftung\n",
    "        color = \"Insel\", # Legendenbeschriftung für `color`\n",
    "        title = \"Pinguine in der Antarktis\", # Titel\n",
    "        subtitle = \"Aufgezeichnet von Dr. Kristen Gorman und der Palmer Station, Antarctica LTER\", # Untertitel\n",
    "        caption = \"https://allisonhorst.github.io/palmerpenguins/\" # Bildunterschrift\n",
    "        ) +\n",
    "    theme_minimal()"
   ]
  }
 ],
 "metadata": {
  "kernelspec": {
   "display_name": "R",
   "language": "R",
   "name": "ir"
  },
  "language_info": {
   "codemirror_mode": "r",
   "file_extension": ".r",
   "mimetype": "text/x-r-source",
   "name": "R",
   "pygments_lexer": "r",
   "version": "4.4.1"
  },
  "widgets": {
   "application/vnd.jupyter.widget-state+json": {
    "state": {},
    "version_major": 2,
    "version_minor": 0
   }
  }
 },
 "nbformat": 4,
 "nbformat_minor": 5
}

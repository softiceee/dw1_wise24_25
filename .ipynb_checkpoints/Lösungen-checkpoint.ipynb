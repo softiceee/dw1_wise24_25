{
 "cells": [
  {
   "cell_type": "code",
   "execution_count": null,
   "id": "6213230b-1cd3-4d18-89ca-7bacaaf8d248",
   "metadata": {},
   "outputs": [],
   "source": [
    "# Jupyter Notebook options\n",
    "\n",
    "# Set the maximum number of rows to print from dplyr functions\n",
    "options(dplyr.print_max = 10)\n",
    "\n",
    "# Set the default plot width for Jupyter Notebook display\n",
    "options(repr.plot.width = 12, repr.plot.height = 8)"
   ]
  },
  {
   "cell_type": "markdown",
   "id": "f93876a0-c805-48e3-9a79-9f085cdb8fcc",
   "metadata": {},
   "source": [
    "# Lösungen\n",
    "\n",
    "In diesem Notebook finden sich alle Lösungen der bisher stattgefundenen Übungen. Für die Übersichtlichkeit werden lediglich Aufgabe und Lösung aufgeführt."
   ]
  },
  {
   "cell_type": "markdown",
   "id": "6c9a7719-5ad8-4b97-a530-84b314764645",
   "metadata": {},
   "source": [
    "## Einführung"
   ]
  },
  {
   "cell_type": "code",
   "execution_count": null,
   "id": "5426da9b-40f4-4172-ba48-d84c55c99386",
   "metadata": {},
   "outputs": [],
   "source": [
    "pacman::p_load(tidyverse)"
   ]
  },
  {
   "cell_type": "markdown",
   "id": "731cc3d0-c872-4053-a383-d8ba7efd2dc7",
   "metadata": {},
   "source": [
    "1. Dieser Code wirft eine Fehlermeldung aus, da wir den Befehl print() aus Versehen groß geschrieben haben. Probiere doch mal, den Code zu korrigieren, und führe die Zelle erneut aus!"
   ]
  },
  {
   "cell_type": "code",
   "execution_count": null,
   "id": "4244238f-d618-433e-acc6-d15dfa77edf6",
   "metadata": {},
   "outputs": [],
   "source": [
    "x = 3\n",
    "print(x) # die Groß- und Kleinschreibung ist wichtig!"
   ]
  },
  {
   "cell_type": "markdown",
   "id": "5699651b-bbe6-4fff-b13d-fc60e09f8e21",
   "metadata": {},
   "source": [
    "2. Versucht doch mal, aus einer eigenen Zahlenkombination den Durchschnitt mithilfe von `mean()` zu berechnen! Tipp: Ihr müsst der Funktion dafür eine Liste übergeben – also z.B. `c(1, 2, 3, 4)`."
   ]
  },
  {
   "cell_type": "code",
   "execution_count": null,
   "id": "e2293a9f-14f3-4243-907e-d8acca10acd3",
   "metadata": {},
   "outputs": [],
   "source": [
    "y = c(1, 2, 3, 4) # man kann die Liste erst zuweisen\n",
    "mean(y) # und dann den Durchschnitt ausgeben\n",
    "mean(c(1, 2, 3, 4)) # oder die Liste direkt übergeben"
   ]
  },
  {
   "cell_type": "markdown",
   "id": "cee623eb-3f32-4221-98f7-b8ef38f0f144",
   "metadata": {},
   "source": [
    "3. Überlegt euch, was die folgende Funktion macht, und kommentiert die wichtigsten Zeilen direkt im Code. Führt die Zelle anschließend aus, um zu schauen, was das Ergebnis ist. Stimmt das Ergebnis mit euren Überlegungen überein?"
   ]
  },
  {
   "cell_type": "code",
   "execution_count": null,
   "id": "a0d5bdcc-b64c-4294-872d-21758583ef03",
   "metadata": {},
   "outputs": [],
   "source": [
    "divison <- function(x, y){ # wir übergeben der Funktion \"divison()\" die Parameter x und y\n",
    "    ergebnis = x / y # Dann teilen wir x durch y und speichern das Ergebnis in der Variable \"ergebnis\"\n",
    "    return(paste0(\"Das Ergebnis ist \", ergebnis)) # Anschließend geben wir mithilfe von paste0() die Kombination aus unserem Satz und ergebnis zurück\n",
    "}\n",
    "\n",
    "divison(6, 3) # und schlussendlich rufen wir die Funktion mit den Zahlen 6 und 3 auf"
   ]
  },
  {
   "cell_type": "markdown",
   "id": "5fe4285f-6a86-4cf2-9db1-c2ec6843ba25",
   "metadata": {},
   "source": [
    "4. Wie müsst ihr den folgenden Code verändern, damit er keine Fehlermeldung mehr ausgibt? Tipp: `sqrt(x)` gibt die Wurzel von x zurück."
   ]
  },
  {
   "cell_type": "code",
   "execution_count": null,
   "id": "68355c94-8610-49ff-af7a-56c8a49467aa",
   "metadata": {},
   "outputs": [],
   "source": [
    "wurzel <- function(x){\n",
    "    print(\n",
    "        paste(\"Die Wurzel von \", x, \" ist gleich \" , sqrt(x)) # die Klammersetzung hat hier nicht gestimmt\n",
    "    )\n",
    "}\n",
    "\n",
    "x = 9\n",
    "wurzel(x) # hier fehlte das Argument"
   ]
  },
  {
   "cell_type": "markdown",
   "id": "167a0895-76a8-4394-b197-c538caca0f60",
   "metadata": {},
   "source": [
    "5. Schreibe eine Funktion, der man die Werte `x` und `y` übergeben kann und die das Produkt dieser Parameter ausgibt!"
   ]
  },
  {
   "cell_type": "code",
   "execution_count": null,
   "id": "8d68a4cf-4217-4ea3-be08-48f069b7987c",
   "metadata": {},
   "outputs": [],
   "source": [
    "multiplication <- function(x, y){ # wir übergeben die Werte x und y\n",
    "    return(x * y) # und geben das Produkt der beiden Werte zurück\n",
    "    }\n",
    "\n",
    "multiplication(3, 4) # hier wird die Funktion aufgerufen"
   ]
  },
  {
   "cell_type": "markdown",
   "id": "b0ee6f31-b7d9-48a3-b406-526bf32c318a",
   "metadata": {},
   "source": [
    "6. Verändert die Werte von `x` und `y`, sodass beide Werte Nachkommastellen enthalten. In R ist der Dezimaltrenner der Punkt `.`. Wie kann der Code erweitert werden, sodass das Ergebnis auf 2 Nachkommastellen gerundet wird?"
   ]
  },
  {
   "cell_type": "code",
   "execution_count": null,
   "id": "f5016c4e-fc69-429d-b9cf-f9c6c07be3aa",
   "metadata": {},
   "outputs": [],
   "source": [
    "multiplication <- function(x, y){ # wir übergeben die Werte x und y\n",
    "    return(round(x * y, 2)) # und geben das Produkt der beiden Werte zurück und runden auf 2 Nachkommastellen\n",
    "    }\n",
    "\n",
    "multiplication(3.33, 4.44) # hier wird die Funktion aufgerufen"
   ]
  },
  {
   "cell_type": "markdown",
   "id": "5b0f37b4-d9ff-45aa-a5dd-54e31e1b1bee",
   "metadata": {},
   "source": [
    "7. Schreibe eine Funktion, die das heutige Datum und die momentane Uhrzeit ausgibt. Tipp: Benutze [`Sys.Date()`](https://www.rdocumentation.org/packages/base/versions/3.6.2/topics/Sys.time) und suche im Internet nach eine ähnlichen Funktion, die die Uhrzeit ausgibt! Ihr könnt auch `paste0()` benutzen, sodass die Uhrzeit mit einem netten Gruß ausgegeben wird."
   ]
  },
  {
   "cell_type": "code",
   "execution_count": null,
   "id": "757730d8-5fba-457c-80ca-1e962f777a7f",
   "metadata": {},
   "outputs": [],
   "source": [
    "wievieluhr <- function(){ # man kann Funktionen auch ohne Parameter definieren!\n",
    "    print(paste0(\"Momentanes Datum und Uhrzeit: \", Sys.time())) # Wir benutzen direkt die Funktion Sys.time()\n",
    "    }\n",
    "\n",
    "wievieluhr()"
   ]
  },
  {
   "cell_type": "markdown",
   "id": "5027333a-57a3-416d-9e67-27df384fb95e",
   "metadata": {},
   "source": [
    "8. Erstellt eine Sequenz von Nummern zwischen 1 und 100 mit einem Intervall von 5. Recherchiert dafür, welche eingebaute Funktion in R ihr dafür benutzen könnt."
   ]
  },
  {
   "cell_type": "code",
   "execution_count": null,
   "id": "0efdafee-6117-4f41-812f-ffd6bd0337d6",
   "metadata": {},
   "outputs": [],
   "source": [
    "seq(from = 1, to = 100, by = 5) # base hat eine eigene Funktion für die Erstellung von Sequenzen\n",
    "\n",
    "# dokumentiert unter https://www.rdocumentation.org/packages/base/versions/3.6.2/topics/seq"
   ]
  },
  {
   "cell_type": "markdown",
   "id": "ec1a2130-4256-4bf6-8678-bba5acf354c6",
   "metadata": {},
   "source": [
    "9. Erstelle einen Vektor mit beliebigen Ziffern. Wie könnt ihr jedes Element des Vektors mit 3 multiplizieren und anschließend einem neuen Vektor zuweisen?"
   ]
  },
  {
   "cell_type": "code",
   "execution_count": null,
   "id": "0990bc71-5e86-4f88-b0b0-b151d67b2efa",
   "metadata": {},
   "outputs": [],
   "source": [
    "random_vector <- runif(10, min = 1, max = 100) # runif generates random numbers from a uniform distribution\n",
    "\n",
    "multiplied_vector <- random_vector * 3 # you can easily use operators on all elements of vectors\n",
    "\n",
    "print(multiplied_vector)"
   ]
  },
  {
   "cell_type": "markdown",
   "id": "fbab9df3-1832-4467-b841-20799af27102",
   "metadata": {},
   "source": [
    "10. Wie könnt ihr euch jedes 2. Element des vorher erstellten Vektors ausgeben lassen?"
   ]
  },
  {
   "cell_type": "code",
   "execution_count": null,
   "id": "b4b65dff-44c4-4b83-9da8-17a4fadaa4dc",
   "metadata": {},
   "outputs": [],
   "source": [
    "# wir können auf die einzelnen Elemente des Vektors mit den eckigen Klammern [] zugreifen\n",
    "# um jedes 2. Element zu definieren, erstellen wir wieder eine Sequenz mit der Länge des Vektors, die bei 2 startet und sich dann um jeweils 2 erhöht\n",
    "multiplied_vector[seq(2, length(multiplied_vector), by = 2)]\n",
    "\n",
    "# Achtung! R benutzt 1-indexing, d.h. das Indexing startet bei 1 - bei vielen anderen Programmiersprachen ist es üblich,\n",
    "# dass das erste Element eines Vektors mit der 0 indiziert wird"
   ]
  },
  {
   "cell_type": "markdown",
   "id": "4cac8346-989b-4f24-8f3d-ca8cf18f188a",
   "metadata": {},
   "source": [
    "11. Wie könnt ihr den Vektor sortieren? Findet außerdem das Minimum und das Maximum des Vektors. Nehmt euch dafür eingebaute R-Funktionen zur Hilfe."
   ]
  },
  {
   "cell_type": "code",
   "execution_count": null,
   "id": "8b597db2-558a-494f-b7f5-6f0238b9309d",
   "metadata": {},
   "outputs": [],
   "source": [
    "# Auch hier hat base wieder eigens eingebaute Funktionen\n",
    "\n",
    "sort(multiplied_vector)\n",
    "min(multiplied_vector)\n",
    "max(multiplied_vector)"
   ]
  }
 ],
 "metadata": {
  "kernelspec": {
   "display_name": "R",
   "language": "R",
   "name": "ir"
  },
  "language_info": {
   "codemirror_mode": "r",
   "file_extension": ".r",
   "mimetype": "text/x-r-source",
   "name": "R",
   "pygments_lexer": "r",
   "version": "4.4.1"
  },
  "widgets": {
   "application/vnd.jupyter.widget-state+json": {
    "state": {},
    "version_major": 2,
    "version_minor": 0
   }
  }
 },
 "nbformat": 4,
 "nbformat_minor": 5
}

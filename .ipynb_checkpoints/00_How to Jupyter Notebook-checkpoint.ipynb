{
 "cells": [
  {
   "attachments": {},
   "cell_type": "markdown",
   "id": "a9460ff5-18a7-4625-be34-061aeed31a09",
   "metadata": {
    "id": "f4d30ae3-1065-4831-b972-a0c4624b4693"
   },
   "source": [
    "# How to Jupyter Notebooks\n",
    "\n",
    "Für den Kurs arbeiten wir in **Jupyter Notebooks**, die auf einem *JupyterLab*-Server der MIN-Fakultät laufen. JupyterLab hat eine umfangreiche [Dokumentation](https://jupyterlab.readthedocs.io/en/latest/), die ihr jederzeit abrufen könnt, wenn ihr Fragen habt. Im Folgenden werden wir einmal die wichtigsten Punkte für die Arbeit mit Jupyter durchgehen. Dabei werden Bilder aus der [Dokumentation](https://jupyterlab.readthedocs.io/en/latest/) verlinkt. Auch die JupyterLab-Instanz des DL-Büros der MIN-Fakultät hat eine eigene kleine [FAQ-Seite](https://dl.min.uni-hamburg.de/en/faq/).\n",
    "\n",
    "Jupyter Notebooks sind interaktive Dokumente, in denen man sowohl Text schreiben als auch Computercode ausführen kann. Sie sind ein bisschen wie ein digitales Notizbuch, in dem man sowohl Notizen als auch Rechnungen machen kann. Der Code, den man in Jupyter Notebooks schreibt, kann in Echtzeit ausgeführt werden, und das Ergebnis wird direkt im Dokument angezeigt. Dadurch, dass sie im Browser laufen, müsst ihr lokal auf eurem Computer nichts installieren und könnt von jedem Computer mit Internetzugang auf den Server und eure Notebooks zugreifen. "
   ]
  },
  {
   "cell_type": "markdown",
   "id": "75a87ccb-434d-4f5c-847b-55d531833706",
   "metadata": {},
   "source": [
    "## Das JupyterLab Interface\n",
    "\n",
    "Das JupyterLab Interface besteht aus einem Hauptteil in der Mitte, einer einklappbaren Seitenleiste sowie einer Menüleiste.\n",
    "\n",
    "<p align=\"left\">\n",
    "  <img src=\"https://jupyterlab.readthedocs.io/en/latest/_images/interface-jupyterlab.png\" width=\"60%\" title=\"JupyterLab Documentation\" />\n",
    "</p>\n",
    "\n",
    "Quelle: [JupyterLab Documentation](https://jupyterlab.readthedocs.io/en/latest/_images/interface-jupyterlab.png)\n",
    "\n",
    "Der Hauptarbeitsbereich wird u.a. in diesem [Dokumentationsvideo](https://www.youtube.com/watch?v=Ka8qS7CO1XQ) gut erklärt. Der Text, den ihr gerade lest, wird bspw. im Hauptarbeitsbereich angezeigt.\n",
    "\n",
    "Die einklappbare Seitenleiste enthält einige weitere Bereiche. Wichtig für unsere Übung ist die Ordnerstruktur (das Ordnersymbol) sowie das Inhaltsverzeichnis des gerade geöffneten Dokuments (die 3 Striche mit den Punkten). Wenn die JupyterLab-Instanz Erweiterungen installiert hat, werden diese i.d.R. ebenfalls in der Seitenleiste angezeigt. \n",
    "\n",
    "> Das JupyterLab von der MIN-Fakultät enthält bspw. eine Git-Erweiterung – diese taucht bei euch im Browser auf, ist aber nicht auf dem verlinkten Bild zu sehen. Git ist für uns auch erstmal nicht weiter von Bedeutung.\n",
    "\n",
    "<p align=\"left\">\n",
    "  <img src=\"https://jupyterlab.readthedocs.io/en/latest/_images/interface-left.png\" width=\"20%\" title=\"JupyterLab Documentation\" />\n",
    "</p>\n",
    "\n",
    "Quelle: [JupyterLab Documentation](https://jupyterlab.readthedocs.io/en/latest/_images/interface-left.png)"
   ]
  },
  {
   "cell_type": "markdown",
   "id": "a34f2c91-0283-4535-866b-de3b2d65c774",
   "metadata": {},
   "source": [
    "## Die Ordnerstruktur\n",
    "\n",
    "Die Ordnerstruktur in der linken Seitenleiste benötigt ihr, um Dateien in eurem lokalen Verzeichnis zu öffnen oder zu speichern. Generell funktioniert sie analog wie die Ordnerstruktur eures Computers. \n",
    "\n",
    "<p align=\"left\">\n",
    "  <img src=\"https://jupyterlab.readthedocs.io/en/latest/_images/files-menu-left.png\" width=\"15%\" title=\"JupyterLab Documentation\" />\n",
    "</p>\n",
    "\n",
    "Quelle: [JupyterLab Documentation](https://jupyterlab.readthedocs.io/en/latest/_images/files-menu-left.png)\n",
    "\n",
    "Viele Aktionen können über das `File`-Menü ausgeführt werden:\n",
    "\n",
    "<p align=\"left\">\n",
    "  <img src=\"https://jupyterlab.readthedocs.io/en/latest/_images/files-menu-top.png\" width=\"35%\" title=\"JupyterLab Documentation\" />\n",
    "</p>\n",
    "\n",
    "Quelle: [JupyterLab Documentation](https://jupyterlab.readthedocs.io/en/latest/_images/files-menu-top.png)\n",
    "\n",
    "Dateien können aber auch per Doppelklick geöffnet werden. Innerhalb eures lokalen Verzeichnisses könnt ihr eigene Ordner anlegen, so wie auf eurem eigenen Computer auch. Mit Rechtsklick könnt ihr das Kontextmenü einer Datei aufrufen, wodurch weitere Aktionen möglich werden.\n",
    "\n",
    "<p align=\"left\">\n",
    "  <img src=\"https://jupyterlab.readthedocs.io/en/latest/_images/files-shareable-link.png\" width=\"25%\" title=\"JupyterLab Documentation\" />\n",
    "</p>\n",
    "\n",
    "Quelle: [JupyterLab Documentation](https://jupyterlab.readthedocs.io/en/latest/_images/files-shareable-link.png)\n",
    "\n",
    "> Bei allen digitalen Projekten ist es sinnvoll, eine gut aufgeräumte Ordnerstruktur zu pflegen. Dafür können z.B. alle Daten-Dateien in einem eigenen Ordner `data` gesichert werden, alle Skripte in einem anderen Ordner, etc.. Auch ist es oft sinnvoll, thematische Unterordner anzulegen, um nicht den Überblick zu verlieren. Bei fortgeschrittenen Projekten wird dadurch auch das Teilen mit anderen Menschen einfacher, wenn ihr z.B. im Team arbeitet oder eure Ergebnisse veröffentlichen wollt.\n",
    "\n",
    "Für diese Übung könnt ihr bspw. ein Verzeichnis `~/digitale_welten/` anlegen, und dort die Notebooks hochladen. Eine gute Benennung ist immer sinnvoll. Ebenfalls sinnvoll ist die Verwendung von Unterverzeichnissen. In den späteren Notebooks wird es ein paar Datensätze geben. Für diese könnt ihr z.B. ein Unterverzeichnis namens `data` anlegen (der komplette Ordnerpfad wäre dann also `~/digitale_welten/data/`)."
   ]
  },
  {
   "cell_type": "markdown",
   "id": "90dd1d73-2a5c-4f55-9bfb-f36a4330ddb2",
   "metadata": {},
   "source": [
    "## Text Editor\n",
    "\n",
    "<p align=\"left\">\n",
    "  <img src=\"https://jupyterlab.readthedocs.io/en/latest/_images/notebook-ui.png\" width=\"70%\" title=\"JupyterLab Documentation\" />\n",
    "</p>\n",
    "\n",
    "Quelle: [JupyterLab Documentation](https://jupyterlab.readthedocs.io/en/latest/_images/notebook-ui.png)\n",
    "\n",
    "Den Großteil der Zeit arbeitet ihr im Notebook Editor von JupyterLab. \n",
    "\n",
    "<p align=\"left\">\n",
    "  <img src=\"https://user-images.githubusercontent.com/591645/229563988-8e3a4d04-6f31-4411-9a6b-9b9b045bc55e.png\" width=\"60%\" title=\"Jupyter Notebook Documentation\" />\n",
    "</p>\n",
    "\n",
    "Quelle: [Jupyter Notebook Documentation](https://user-images.githubusercontent.com/591645/229563988-8e3a4d04-6f31-4411-9a6b-9b9b045bc55e.png)\n",
    "\n",
    "In der Toolbar findet ihr Befehle, um direkt Änderungen im Notebook vorzunehmen. Dazu gehört das Speichern (Ctrl/Cmd + S), Ausschneiden (Ctrl/Cmd + X), Kopieren (Ctrl/Cmd + C), Einfügen (Ctrl/Cmd + V) – genau wie auf eurem Computer.\n",
    "\n",
    "> I.d.R. benutzen Windows- und Linux-Systeme die Taste `Ctrl` und macOS nutzt die Taste `Cmd`."
   ]
  },
  {
   "cell_type": "markdown",
   "id": "7900a534-22df-4396-b3e0-d7a9e7aa4a27",
   "metadata": {},
   "source": [
    "## Zellblöcke\n",
    "\n",
    "Jupyter Notebooks haben ausführbare Zellen (*executable cells*), in denen programmiert werden kann. Diese können entweder mit (Shift/Ctrl/Cmd + Enter) ausgeführt werden. Unter dem Block wird der Output des Codes angezeigt (z. B. Grafiken, Ergebnisse, oder auch Fehlermeldungen). Dazu später mehr!\n",
    "\n",
    "Die Zellen, die ihr bis jetzt gelesen habt, sind sogenannte *Markdown cells*. Markdown ist eine Auszeichnungssprache, mit der Text formatiert werden kann (z. B. **fett** oder *kursiv*). Wenn ihr auf diese Zelle hier doppelklickt, seht ihr den dazugehörigen Markdown-Code. **Fetter** Text wird z. B. über den Code ```**Fetter Text**``` umgesetzt. Im Prinzip ist jedes Feld, was nicht ausführbar ist, also einfach ein Feld, in dem der Text über die Markdown-Sprache formatiert wird! Markdown-Zellen können genauso wie die ausführbaren Blöcke mithilfe von (Shift/Ctrl/Cmd + Enter) wieder gerendert werden! \n",
    "\n",
    "* Probiert das ganze doch einfach mal aus! Doppelklickt auf diese Zelle, schaut euch den darunterliegenden Markdown-Code an, und rendert die Zelle mit dem genannten Shortcut wieder.\n",
    "\n",
    "> Wenn ihr mehr über Markdown erfahren wollt, dann schaut euch gerne die Cheat-Sheets von Posit dazu an: [Markdown Cheat-Sheet](https://rstudio.github.io/cheatsheets/html/rmarkdown.html)\n",
    "\n",
    "Die Art der Zelle wird oben in der Leiste angezeigt (Code, Markdown oder Raw) – schaut euch gerne dafür die folgende Grafik an und sucht die Elemente dann in eurem eigenen Browser! Code-Zellen enthalten später den R-Code, den wir ausführen werden. Wenn ihr auf eine Zelle klickt, wird diese aktiv (also z. B. hier direkt auf den Zellblock, den ihr gerade lest). Jede Zelle (oder Block) hat auf der rechten oberen Seite einige Icons, mit denen Zell-Aktionen ausgeführt werden können (Zelle Duplizieren, Zelle nach oben/unten schieben, oberhalb/unterhalb eine neue Zelle einfügen, Zelle löschen)."
   ]
  },
  {
   "cell_type": "markdown",
   "id": "3fdff970-b9c0-4861-9d5a-9dee84965b48",
   "metadata": {
    "editable": true,
    "slideshow": {
     "slide_type": ""
    },
    "tags": []
   },
   "source": [
    "> **Terminal**: Genau wie auf eurem lokalen Computer gibt es über `File -> New Launcher -> Terminal` die Möglichkeit, ein Terminal zu öffnen. Wenn ihr bereits mit Terminals vertraut seid, könnt ihr auch mit dem Terminal arbeiten. Für alle anderen ist das erstmal nicht so wichtig."
   ]
  },
  {
   "cell_type": "markdown",
   "id": "fd4c1c1f-0978-4b2f-a3e8-a0be484c684f",
   "metadata": {},
   "source": [
    "## Los geht's!\n",
    "\n",
    "Keine Sorge! Diese vielen Begriffe werden am Anfang etwas unübersichtlich klingen, aber mit der Zeit werdet ihr lernen, was sie bedeuten. Oft ist es auch erstmal hilfreich, einen Begriff schon mal gehört zu haben, ohne ihn direkt zu verstehen. Ihr habt immer die Möglichkeit, auch selbstständig mal zu recherchieren (z. B. über eine Suchmaschine) und solltet dies auch nutzen. Viele Begriffe werden euch immer wieder begegnen und mit der Zeit vertrauter werden."
   ]
  }
 ],
 "metadata": {
  "kernelspec": {
   "display_name": "R",
   "language": "R",
   "name": "ir"
  },
  "language_info": {
   "codemirror_mode": "r",
   "file_extension": ".r",
   "mimetype": "text/x-r-source",
   "name": "R",
   "pygments_lexer": "r",
   "version": "4.4.1"
  },
  "widgets": {
   "application/vnd.jupyter.widget-state+json": {
    "state": {},
    "version_major": 2,
    "version_minor": 0
   }
  }
 },
 "nbformat": 4,
 "nbformat_minor": 5
}
